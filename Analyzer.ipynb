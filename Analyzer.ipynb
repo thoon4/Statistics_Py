{
 "cells": [
  {
   "cell_type": "markdown",
   "id": "739249bc",
   "metadata": {},
   "source": [
    "# Python Analyzer\n",
    "\n",
    "<br>"
   ]
  },
  {
   "cell_type": "markdown",
   "id": "c8b594c8",
   "metadata": {},
   "source": [
    "---\n",
    "\n",
    "<br>\n",
    "\n",
    "\n",
    "## Reference\n",
    "\n",
    "<br>\n",
    "\n",
    "* 주피터 노트북의 단축기\n",
    "\n",
    "    - 1. Command Mode ( press Esc to enable) \n",
    "        - 1. shift-Enter : run cell, select below\n",
    "        - 2. Ctrl-Enter : run cell\n",
    "        - 3. Alt-Enter : run cell, insert below \n",
    "        - 4. Y : to code \n",
    "        - 5. M : to markdown\n",
    "        - 6. B : insert cell below\n",
    "        - 7. X : cut selected cell\n",
    "        - 8. C : copy selected cell\n",
    "        - 9. Shift-V : paste cell above\n",
    "        - 10. V : paste cell below\n",
    "        - 11. Z : undo last cell deletion\n",
    "        - 12. D,D : delete selected cell\n",
    "        - 13. Shift-M : merge cell below\n",
    "\n",
    "    - 2. Edit Mode ( press Enter to enable)\n",
    "        - 1. Shift-Tab : 툴팁표시\n",
    "        - 2. Ctrl-] : indent\n",
    "        - 3. Ctrl-Shift- : split cell\n",
    "\n",
    "<br>\n",
    "\n",
    "* 주피터 노트북 마크다운 관련 참고 자료\n",
    "    - 1. https://datanetworkanalysis.github.io/2019/10/12/markdown\n",
    "    - 2. https://steemit.com/kr/@nand/markdown\n",
    "\n",
    "<br>\n",
    "\n",
    "* Pandas 데이터 분석\n",
    "    - 1. https://stmorse.github.io/journal/tidyverse-style-pandas.html\n",
    "    \n",
    "<br>\n",
    "\n",
    "* Python 통계 분석\n",
    "    - 1. https://partrita.github.io/posts/pingouin/\n",
    "    - 2. https://pingouin-stats.org/index.html\n",
    "    - 3. https://www.marsja.se/repeated-measures-anova-in-r-and-python-afex-pingouin/"
   ]
  },
  {
   "cell_type": "markdown",
   "id": "ff1a179e",
   "metadata": {},
   "source": [
    "## Basic Setting & Package Install\n"
   ]
  },
  {
   "cell_type": "markdown",
   "id": "a5bda7fd",
   "metadata": {},
   "source": [
    "* 경로 설정"
   ]
  },
  {
   "cell_type": "code",
   "execution_count": 1,
   "id": "c85c77c2",
   "metadata": {
    "ExecuteTime": {
     "end_time": "2021-12-25T10:16:11.760387Z",
     "start_time": "2021-12-25T10:16:11.754653Z"
    }
   },
   "outputs": [],
   "source": [
    "import os\n",
    "currDir = os.getcwd()\n",
    "# os.chdir(r'/Users/deepmem/Desktop/working/aniFCnet/anime/results/an_01')\n",
    "# os.chdir(r'/Users/deepmem/Desktop/working/aniFCnet/anime/results')\n",
    "# os.chdir(r'/Users/deepmem/Desktop/working/aniFCnet/anime/results')\n",
    "os.chdir(currDir)"
   ]
  },
  {
   "cell_type": "markdown",
   "id": "dbf041c8",
   "metadata": {},
   "source": [
    "* 패키지 설치"
   ]
  },
  {
   "cell_type": "code",
   "execution_count": 2,
   "id": "c6837af6",
   "metadata": {
    "ExecuteTime": {
     "end_time": "2021-11-28T05:29:05.110547Z",
     "start_time": "2021-11-28T05:29:05.107984Z"
    }
   },
   "outputs": [],
   "source": [
    "### Data Handling & Analysis\n",
    "#!pip install numpy scipy pandas sympy statsmodels pingouin\n",
    "#!conda install numpy scipy pandas sympy statsmodels pingouin\n",
    "\n",
    "### Plot\n",
    "#!pip install matplotlib seaborn plotnine bokeh\n",
    "#!conda install matplotlib seaborn plotnine bokeh\n",
    "\n",
    "### ML & DL\n",
    "#!pip install scikit-learn tensorflow keras\n",
    "#!conda install scikit-learn tensorflow keras"
   ]
  },
  {
   "cell_type": "markdown",
   "id": "4586c0dd",
   "metadata": {},
   "source": [
    "* 패키지 불러오기"
   ]
  },
  {
   "cell_type": "code",
   "execution_count": 3,
   "id": "b2d3043a",
   "metadata": {
    "ExecuteTime": {
     "end_time": "2021-11-28T05:29:06.862695Z",
     "start_time": "2021-11-28T05:29:05.113207Z"
    }
   },
   "outputs": [],
   "source": [
    "# ---------------------------------------------------------------------------\n",
    "\n",
    "# for Data Processing\n",
    "import pandas as pd\n",
    "import numpy as np\n",
    "\n",
    "# ---------------------------------------------------------------------------\n",
    "\n",
    "# for Plotting\n",
    "\n",
    "## - matplotlib\n",
    "import matplotlib as mpl\n",
    "import matplotlib.pyplot as plt\n",
    "import pylab as pl\n",
    "\n",
    "## - seaborn\n",
    "import seaborn as sns\n",
    "\n",
    "## - plotnine\n",
    "import plotnine as ggplot\n",
    "\n",
    "# ---------------------------------------------------------------------------\n",
    "\n",
    "# for Statistic\n",
    "\n",
    "## scipy\n",
    "from scipy import stats\n",
    "\n",
    "## sympy\n",
    "import sympy as sym\n",
    "\n",
    "## statmodels\n",
    "import statsmodels as modeling\n",
    "\n",
    "## pingouin\n",
    "import pingouin as pg\n",
    "\n",
    "# ---------------------------------------------------------------------------\n",
    "\n",
    "## for Machine Learning\n",
    "import sklearn\n",
    "from sklearn import preprocessing, feature_selection, linear_model, svm, metrics, model_selection\n",
    "\n",
    "## for Deep Learning\n",
    "# import tensorflow as tp\n",
    "# import keras\n",
    "\n",
    "\n",
    "# ---------------------------------------------------------------------------\n",
    "\n",
    "# Reference\n",
    "\n",
    "# ## - preprocessing\n",
    "# from sklearn.preprocessing import StandardScaler\n",
    "# from sklearn.preprocessing import label_binarize\n",
    "\n",
    "# ## - feature selection\n",
    "# ## * https://scikit-learn.org/stable/modules/feature_selection.html\n",
    "# ## * https://datascienceschool.net/03%20machine%20learning/14.03%20%ED%8A%B9%EC%A7%95%20%EC%84%A0%ED%83%9D.html\n",
    "# from sklearn.feature_selection import VarianceThreshold\n",
    "# from sklearn.feature_selection import SelectKBest\n",
    "# from sklearn.feature_selection import chi2\n",
    "# from sklearn.feature_selection import f_classif\n",
    "# from sklearn.feature_selection import f_regression\n",
    "\n",
    "# # ---------------------------------------------------------------------------\n",
    "\n",
    "# ## - model\n",
    "# ## * https://scikit-learn.org/stable/modules/linear_model.html\n",
    "# from sklearn.linear_model import RidgeClassifier\n",
    "# from sklearn.linear_model import LogisticRegression\n",
    "\n",
    "# ## * https://scikit-learn.org/stable/modules/svm.html\n",
    "# from sklearn import svm\n",
    "\n",
    "# ## * https://xgboost.readthedocs.io/en/latest/\n",
    "# from xgboost import XGBClassifier\n",
    "\n",
    "# # ---------------------------------------------------------------------------\n",
    "\n",
    "# ## - metric, performance measure\n",
    "# ## * https://scikit-learn.org/stable/modules/model_evaluation.html\n",
    "# from sklearn.metrics import classification_report\n",
    "# from sklearn.metrics import accuracy_score\n",
    "# from sklearn.metrics import roc_auc_score\n",
    "# from sklearn.metrics import confusion_matrix\n",
    "\n",
    "# ## * https://scikit-learn.org/stable/auto_examples/model_selection/plot_permutation_tests_for_classification.html#sphx-glr-auto-examples-model-selection-plot-permutation-tests-for-classification-py\n",
    "# from sklearn.model_selection import permutation_test_score\n",
    "\n",
    "# # ---------------------------------------------------------------------------\n",
    "\n",
    "# ## - model selection & evaluation\n",
    "# ## * https://scikit-learn.org/stable/modules/cross_validation.html\n",
    "# from sklearn import model_selection\n",
    "# from sklearn.model_selection import train_test_split\n",
    "# from sklearn.model_selection import KFold, LeaveOneOut\n",
    "# from sklearn.model_selection import StratifiedKFold\n",
    "# from sklearn.model_selection import cross_val_score #prediction\n",
    "# from sklearn.model_selection import cross_val_predict #prediction\n",
    "# from sklearn.model_selection import cross_validate #prediction"
   ]
  },
  {
   "cell_type": "code",
   "execution_count": 4,
   "id": "44b3b89c",
   "metadata": {
    "ExecuteTime": {
     "end_time": "2021-11-28T05:29:06.868713Z",
     "start_time": "2021-11-28T05:29:06.863552Z"
    }
   },
   "outputs": [],
   "source": [
    "\n",
    "# Global setting\n",
    "import warnings\n",
    "warnings.filterwarnings('ignore')\n",
    "\n",
    "sns.set_style('white')\n",
    "%matplotlib inline\n",
    "\n",
    "\n",
    "import platform                \n",
    "\n",
    "# 웬만하면 해주는 것이 좋다.\n",
    "from matplotlib import font_manager, rc\n",
    "plt.rcParams['axes.unicode_minus']= False\n",
    "\n",
    "if platform.system() == 'Darwin': # 맥os 사용자의 경우에\n",
    "    plt.style.use('seaborn-darkgrid') \n",
    "    rc('font', family = 'AppleGothic')\n",
    "    \n",
    "elif platform.system() == 'Windows':# 윈도우 사용자의 경우에\n",
    "    path = 'c:/Windows/Fonts/malgun.ttf'\n",
    "    font_name = font_manager.FontProperties(fname=path).get_name()\n",
    "    plt.style.use('seaborn-darkgrid') # https://python-graph-gallery.com/199-matplotlib-style-sheets/\n",
    "    rc('font', family=font_name)\n",
    "\n",
    "font = {'weight' : 'bold',\n",
    "        'size'   : 15}\n",
    "\n",
    "mpl.rc('font', **font)"
   ]
  },
  {
   "cell_type": "markdown",
   "id": "5a77e805",
   "metadata": {},
   "source": [
    "## Exploratory Data Analysis"
   ]
  },
  {
   "cell_type": "markdown",
   "id": "43646a5f",
   "metadata": {},
   "source": [
    "### Data Load & Glimpse"
   ]
  },
  {
   "cell_type": "code",
   "execution_count": 5,
   "id": "7316317c",
   "metadata": {
    "ExecuteTime": {
     "end_time": "2021-11-28T05:29:06.954412Z",
     "start_time": "2021-11-28T05:29:06.869481Z"
    }
   },
   "outputs": [],
   "source": [
    "data_dir =  ('%s/%s' % (currDir, 'Sample_Data'))\n",
    "df = pd.read_csv(('%s/conSrep_lme.csv' % (data_dir)), encoding='euc-kr')"
   ]
  },
  {
   "cell_type": "code",
   "execution_count": 6,
   "id": "01902292",
   "metadata": {
    "ExecuteTime": {
     "end_time": "2021-11-28T05:29:06.967248Z",
     "start_time": "2021-11-28T05:29:06.955249Z"
    }
   },
   "outputs": [
    {
     "data": {
      "text/html": [
       "<div>\n",
       "<style scoped>\n",
       "    .dataframe tbody tr th:only-of-type {\n",
       "        vertical-align: middle;\n",
       "    }\n",
       "\n",
       "    .dataframe tbody tr th {\n",
       "        vertical-align: top;\n",
       "    }\n",
       "\n",
       "    .dataframe thead th {\n",
       "        text-align: right;\n",
       "    }\n",
       "</style>\n",
       "<table border=\"1\" class=\"dataframe\">\n",
       "  <thead>\n",
       "    <tr style=\"text-align: right;\">\n",
       "      <th></th>\n",
       "      <th>subj</th>\n",
       "      <th>roi</th>\n",
       "      <th>cond</th>\n",
       "      <th>ll</th>\n",
       "      <th>item</th>\n",
       "      <th>comp1</th>\n",
       "      <th>comp2</th>\n",
       "      <th>z</th>\n",
       "      <th>rd_ll</th>\n",
       "      <th>rd_cond</th>\n",
       "      <th>Zr_1</th>\n",
       "      <th>Zr_2</th>\n",
       "      <th>Zr_s</th>\n",
       "      <th>Zr_m</th>\n",
       "      <th>b_1</th>\n",
       "      <th>b_2</th>\n",
       "      <th>b_s</th>\n",
       "      <th>b_m</th>\n",
       "      <th>Zr_wm</th>\n",
       "      <th>b_wm</th>\n",
       "    </tr>\n",
       "  </thead>\n",
       "  <tbody>\n",
       "    <tr>\n",
       "      <th>0</th>\n",
       "      <td>1</td>\n",
       "      <td>loc</td>\n",
       "      <td>1</td>\n",
       "      <td>1</td>\n",
       "      <td>10105</td>\n",
       "      <td>1</td>\n",
       "      <td>5</td>\n",
       "      <td>0.667815</td>\n",
       "      <td>0.783697</td>\n",
       "      <td>0.770063</td>\n",
       "      <td>0.241053</td>\n",
       "      <td>0.166046</td>\n",
       "      <td>0.203550</td>\n",
       "      <td>0.223921</td>\n",
       "      <td>0.126249</td>\n",
       "      <td>0.017386</td>\n",
       "      <td>0.071818</td>\n",
       "      <td>0.130898</td>\n",
       "      <td>NaN</td>\n",
       "      <td>NaN</td>\n",
       "    </tr>\n",
       "    <tr>\n",
       "      <th>1</th>\n",
       "      <td>1</td>\n",
       "      <td>loc</td>\n",
       "      <td>1</td>\n",
       "      <td>1</td>\n",
       "      <td>10107</td>\n",
       "      <td>1</td>\n",
       "      <td>7</td>\n",
       "      <td>0.873861</td>\n",
       "      <td>0.495769</td>\n",
       "      <td>0.486178</td>\n",
       "      <td>0.577057</td>\n",
       "      <td>0.279873</td>\n",
       "      <td>0.428465</td>\n",
       "      <td>0.468502</td>\n",
       "      <td>0.462390</td>\n",
       "      <td>-0.039847</td>\n",
       "      <td>0.211272</td>\n",
       "      <td>0.387839</td>\n",
       "      <td>NaN</td>\n",
       "      <td>NaN</td>\n",
       "    </tr>\n",
       "    <tr>\n",
       "      <th>2</th>\n",
       "      <td>1</td>\n",
       "      <td>loc</td>\n",
       "      <td>1</td>\n",
       "      <td>1</td>\n",
       "      <td>10111</td>\n",
       "      <td>1</td>\n",
       "      <td>11</td>\n",
       "      <td>0.893776</td>\n",
       "      <td>0.547011</td>\n",
       "      <td>0.549124</td>\n",
       "      <td>0.513251</td>\n",
       "      <td>0.342322</td>\n",
       "      <td>0.427786</td>\n",
       "      <td>0.518879</td>\n",
       "      <td>0.331198</td>\n",
       "      <td>0.136710</td>\n",
       "      <td>0.233954</td>\n",
       "      <td>0.481692</td>\n",
       "      <td>NaN</td>\n",
       "      <td>NaN</td>\n",
       "    </tr>\n",
       "  </tbody>\n",
       "</table>\n",
       "</div>"
      ],
      "text/plain": [
       "   subj  roi  cond  ll   item  comp1  comp2         z     rd_ll   rd_cond  \\\n",
       "0     1  loc     1   1  10105      1      5  0.667815  0.783697  0.770063   \n",
       "1     1  loc     1   1  10107      1      7  0.873861  0.495769  0.486178   \n",
       "2     1  loc     1   1  10111      1     11  0.893776  0.547011  0.549124   \n",
       "\n",
       "       Zr_1      Zr_2      Zr_s      Zr_m       b_1       b_2       b_s  \\\n",
       "0  0.241053  0.166046  0.203550  0.223921  0.126249  0.017386  0.071818   \n",
       "1  0.577057  0.279873  0.428465  0.468502  0.462390 -0.039847  0.211272   \n",
       "2  0.513251  0.342322  0.427786  0.518879  0.331198  0.136710  0.233954   \n",
       "\n",
       "        b_m  Zr_wm  b_wm  \n",
       "0  0.130898    NaN   NaN  \n",
       "1  0.387839    NaN   NaN  \n",
       "2  0.481692    NaN   NaN  "
      ]
     },
     "execution_count": 6,
     "metadata": {},
     "output_type": "execute_result"
    }
   ],
   "source": [
    "df.head(3)"
   ]
  },
  {
   "cell_type": "code",
   "execution_count": 7,
   "id": "508f589f",
   "metadata": {
    "ExecuteTime": {
     "end_time": "2021-11-28T05:29:06.970523Z",
     "start_time": "2021-11-28T05:29:06.968115Z"
    }
   },
   "outputs": [
    {
     "data": {
      "text/plain": [
       "(38016, 20)"
      ]
     },
     "execution_count": 7,
     "metadata": {},
     "output_type": "execute_result"
    }
   ],
   "source": [
    "df.shape"
   ]
  },
  {
   "cell_type": "code",
   "execution_count": 8,
   "id": "2ca09516",
   "metadata": {
    "ExecuteTime": {
     "end_time": "2021-11-28T05:29:06.978777Z",
     "start_time": "2021-11-28T05:29:06.971576Z"
    }
   },
   "outputs": [
    {
     "data": {
      "text/html": [
       "<div>\n",
       "<style scoped>\n",
       "    .dataframe tbody tr th:only-of-type {\n",
       "        vertical-align: middle;\n",
       "    }\n",
       "\n",
       "    .dataframe tbody tr th {\n",
       "        vertical-align: top;\n",
       "    }\n",
       "\n",
       "    .dataframe thead th {\n",
       "        text-align: right;\n",
       "    }\n",
       "</style>\n",
       "<table border=\"1\" class=\"dataframe\">\n",
       "  <thead>\n",
       "    <tr style=\"text-align: right;\">\n",
       "      <th></th>\n",
       "      <th>nan_count</th>\n",
       "    </tr>\n",
       "  </thead>\n",
       "  <tbody>\n",
       "    <tr>\n",
       "      <th>subj</th>\n",
       "      <td>0</td>\n",
       "    </tr>\n",
       "    <tr>\n",
       "      <th>roi</th>\n",
       "      <td>0</td>\n",
       "    </tr>\n",
       "    <tr>\n",
       "      <th>cond</th>\n",
       "      <td>0</td>\n",
       "    </tr>\n",
       "    <tr>\n",
       "      <th>ll</th>\n",
       "      <td>0</td>\n",
       "    </tr>\n",
       "    <tr>\n",
       "      <th>item</th>\n",
       "      <td>0</td>\n",
       "    </tr>\n",
       "    <tr>\n",
       "      <th>comp1</th>\n",
       "      <td>0</td>\n",
       "    </tr>\n",
       "    <tr>\n",
       "      <th>comp2</th>\n",
       "      <td>0</td>\n",
       "    </tr>\n",
       "    <tr>\n",
       "      <th>z</th>\n",
       "      <td>0</td>\n",
       "    </tr>\n",
       "    <tr>\n",
       "      <th>rd_ll</th>\n",
       "      <td>0</td>\n",
       "    </tr>\n",
       "    <tr>\n",
       "      <th>rd_cond</th>\n",
       "      <td>0</td>\n",
       "    </tr>\n",
       "    <tr>\n",
       "      <th>Zr_1</th>\n",
       "      <td>0</td>\n",
       "    </tr>\n",
       "    <tr>\n",
       "      <th>Zr_2</th>\n",
       "      <td>0</td>\n",
       "    </tr>\n",
       "    <tr>\n",
       "      <th>Zr_s</th>\n",
       "      <td>0</td>\n",
       "    </tr>\n",
       "    <tr>\n",
       "      <th>Zr_m</th>\n",
       "      <td>0</td>\n",
       "    </tr>\n",
       "    <tr>\n",
       "      <th>b_1</th>\n",
       "      <td>0</td>\n",
       "    </tr>\n",
       "    <tr>\n",
       "      <th>b_2</th>\n",
       "      <td>0</td>\n",
       "    </tr>\n",
       "    <tr>\n",
       "      <th>b_s</th>\n",
       "      <td>0</td>\n",
       "    </tr>\n",
       "    <tr>\n",
       "      <th>b_m</th>\n",
       "      <td>0</td>\n",
       "    </tr>\n",
       "    <tr>\n",
       "      <th>Zr_wm</th>\n",
       "      <td>38016</td>\n",
       "    </tr>\n",
       "    <tr>\n",
       "      <th>b_wm</th>\n",
       "      <td>38016</td>\n",
       "    </tr>\n",
       "  </tbody>\n",
       "</table>\n",
       "</div>"
      ],
      "text/plain": [
       "         nan_count\n",
       "subj             0\n",
       "roi              0\n",
       "cond             0\n",
       "ll               0\n",
       "item             0\n",
       "comp1            0\n",
       "comp2            0\n",
       "z                0\n",
       "rd_ll            0\n",
       "rd_cond          0\n",
       "Zr_1             0\n",
       "Zr_2             0\n",
       "Zr_s             0\n",
       "Zr_m             0\n",
       "b_1              0\n",
       "b_2              0\n",
       "b_s              0\n",
       "b_m              0\n",
       "Zr_wm        38016\n",
       "b_wm         38016"
      ]
     },
     "execution_count": 8,
     "metadata": {},
     "output_type": "execute_result"
    }
   ],
   "source": [
    "# 결측치 개수 파악\n",
    "# 셀 실행 결과를 데이터프레임으로 보고 싶을 때 to_frame()과 pd.DataFrame() 두 가지를 사용 가능\n",
    "df.isnull().sum().to_frame('nan_count')"
   ]
  },
  {
   "cell_type": "code",
   "execution_count": 9,
   "id": "38d51688",
   "metadata": {
    "ExecuteTime": {
     "end_time": "2021-11-28T05:29:06.990366Z",
     "start_time": "2021-11-28T05:29:06.981564Z"
    }
   },
   "outputs": [
    {
     "data": {
      "text/html": [
       "<div>\n",
       "<style scoped>\n",
       "    .dataframe tbody tr th:only-of-type {\n",
       "        vertical-align: middle;\n",
       "    }\n",
       "\n",
       "    .dataframe tbody tr th {\n",
       "        vertical-align: top;\n",
       "    }\n",
       "\n",
       "    .dataframe thead th {\n",
       "        text-align: right;\n",
       "    }\n",
       "</style>\n",
       "<table border=\"1\" class=\"dataframe\">\n",
       "  <thead>\n",
       "    <tr style=\"text-align: right;\">\n",
       "      <th></th>\n",
       "      <th>nan_ratio</th>\n",
       "    </tr>\n",
       "  </thead>\n",
       "  <tbody>\n",
       "    <tr>\n",
       "      <th>subj</th>\n",
       "      <td>0.0</td>\n",
       "    </tr>\n",
       "    <tr>\n",
       "      <th>roi</th>\n",
       "      <td>0.0</td>\n",
       "    </tr>\n",
       "    <tr>\n",
       "      <th>cond</th>\n",
       "      <td>0.0</td>\n",
       "    </tr>\n",
       "    <tr>\n",
       "      <th>ll</th>\n",
       "      <td>0.0</td>\n",
       "    </tr>\n",
       "    <tr>\n",
       "      <th>item</th>\n",
       "      <td>0.0</td>\n",
       "    </tr>\n",
       "    <tr>\n",
       "      <th>comp1</th>\n",
       "      <td>0.0</td>\n",
       "    </tr>\n",
       "    <tr>\n",
       "      <th>comp2</th>\n",
       "      <td>0.0</td>\n",
       "    </tr>\n",
       "    <tr>\n",
       "      <th>z</th>\n",
       "      <td>0.0</td>\n",
       "    </tr>\n",
       "    <tr>\n",
       "      <th>rd_ll</th>\n",
       "      <td>0.0</td>\n",
       "    </tr>\n",
       "    <tr>\n",
       "      <th>rd_cond</th>\n",
       "      <td>0.0</td>\n",
       "    </tr>\n",
       "    <tr>\n",
       "      <th>Zr_1</th>\n",
       "      <td>0.0</td>\n",
       "    </tr>\n",
       "    <tr>\n",
       "      <th>Zr_2</th>\n",
       "      <td>0.0</td>\n",
       "    </tr>\n",
       "    <tr>\n",
       "      <th>Zr_s</th>\n",
       "      <td>0.0</td>\n",
       "    </tr>\n",
       "    <tr>\n",
       "      <th>Zr_m</th>\n",
       "      <td>0.0</td>\n",
       "    </tr>\n",
       "    <tr>\n",
       "      <th>b_1</th>\n",
       "      <td>0.0</td>\n",
       "    </tr>\n",
       "    <tr>\n",
       "      <th>b_2</th>\n",
       "      <td>0.0</td>\n",
       "    </tr>\n",
       "    <tr>\n",
       "      <th>b_s</th>\n",
       "      <td>0.0</td>\n",
       "    </tr>\n",
       "    <tr>\n",
       "      <th>b_m</th>\n",
       "      <td>0.0</td>\n",
       "    </tr>\n",
       "    <tr>\n",
       "      <th>Zr_wm</th>\n",
       "      <td>1.0</td>\n",
       "    </tr>\n",
       "    <tr>\n",
       "      <th>b_wm</th>\n",
       "      <td>1.0</td>\n",
       "    </tr>\n",
       "  </tbody>\n",
       "</table>\n",
       "</div>"
      ],
      "text/plain": [
       "         nan_ratio\n",
       "subj           0.0\n",
       "roi            0.0\n",
       "cond           0.0\n",
       "ll             0.0\n",
       "item           0.0\n",
       "comp1          0.0\n",
       "comp2          0.0\n",
       "z              0.0\n",
       "rd_ll          0.0\n",
       "rd_cond        0.0\n",
       "Zr_1           0.0\n",
       "Zr_2           0.0\n",
       "Zr_s           0.0\n",
       "Zr_m           0.0\n",
       "b_1            0.0\n",
       "b_2            0.0\n",
       "b_s            0.0\n",
       "b_m            0.0\n",
       "Zr_wm          1.0\n",
       "b_wm           1.0"
      ]
     },
     "execution_count": 9,
     "metadata": {},
     "output_type": "execute_result"
    }
   ],
   "source": [
    "pd.DataFrame(data=df.isnull().sum()/len(df),columns=['nan_ratio'])"
   ]
  },
  {
   "cell_type": "code",
   "execution_count": 10,
   "id": "02f50d7f",
   "metadata": {
    "ExecuteTime": {
     "end_time": "2021-11-28T05:29:06.995414Z",
     "start_time": "2021-11-28T05:29:06.991349Z"
    }
   },
   "outputs": [
    {
     "data": {
      "text/plain": [
       "1     1584\n",
       "2     1584\n",
       "98    1584\n",
       "97    1584\n",
       "96    1584\n",
       "94    1584\n",
       "20    1584\n",
       "19    1584\n",
       "18    1584\n",
       "17    1584\n",
       "16    1584\n",
       "13    1584\n",
       "15    1584\n",
       "14    1584\n",
       "12    1584\n",
       "11    1584\n",
       "10    1584\n",
       "9     1584\n",
       "8     1584\n",
       "7     1584\n",
       "6     1584\n",
       "5     1584\n",
       "3     1584\n",
       "99    1584\n",
       "Name: subj, dtype: int64"
      ]
     },
     "execution_count": 10,
     "metadata": {},
     "output_type": "execute_result"
    }
   ],
   "source": [
    "df['subj'].value_counts()"
   ]
  },
  {
   "cell_type": "code",
   "execution_count": 11,
   "id": "7f5072d2",
   "metadata": {
    "ExecuteTime": {
     "end_time": "2021-11-28T05:29:07.001100Z",
     "start_time": "2021-11-28T05:29:06.996395Z"
    }
   },
   "outputs": [
    {
     "data": {
      "text/plain": [
       "array(['loc', 'lloc', 'rloc', 'pf', 'lpf', 'rpf', 'bhpp', 'lhpp', 'rhpp',\n",
       "       'a_hpp', 'p_hpp', 'mpfc'], dtype=object)"
      ]
     },
     "execution_count": 11,
     "metadata": {},
     "output_type": "execute_result"
    }
   ],
   "source": [
    "df['roi'].unique()"
   ]
  },
  {
   "cell_type": "code",
   "execution_count": 12,
   "id": "85f23c20",
   "metadata": {
    "ExecuteTime": {
     "end_time": "2021-11-28T05:29:07.012638Z",
     "start_time": "2021-11-28T05:29:07.002018Z"
    }
   },
   "outputs": [
    {
     "name": "stdout",
     "output_type": "stream",
     "text": [
      "<class 'pandas.core.frame.DataFrame'>\n",
      "RangeIndex: 38016 entries, 0 to 38015\n",
      "Data columns (total 20 columns):\n",
      " #   Column   Non-Null Count  Dtype  \n",
      "---  ------   --------------  -----  \n",
      " 0   subj     38016 non-null  int64  \n",
      " 1   roi      38016 non-null  object \n",
      " 2   cond     38016 non-null  int64  \n",
      " 3   ll       38016 non-null  int64  \n",
      " 4   item     38016 non-null  int64  \n",
      " 5   comp1    38016 non-null  int64  \n",
      " 6   comp2    38016 non-null  int64  \n",
      " 7   z        38016 non-null  float64\n",
      " 8   rd_ll    38016 non-null  float64\n",
      " 9   rd_cond  38016 non-null  float64\n",
      " 10  Zr_1     38016 non-null  float64\n",
      " 11  Zr_2     38016 non-null  float64\n",
      " 12  Zr_s     38016 non-null  float64\n",
      " 13  Zr_m     38016 non-null  float64\n",
      " 14  b_1      38016 non-null  float64\n",
      " 15  b_2      38016 non-null  float64\n",
      " 16  b_s      38016 non-null  float64\n",
      " 17  b_m      38016 non-null  float64\n",
      " 18  Zr_wm    0 non-null      float64\n",
      " 19  b_wm     0 non-null      float64\n",
      "dtypes: float64(13), int64(6), object(1)\n",
      "memory usage: 5.8+ MB\n"
     ]
    }
   ],
   "source": [
    "df.info()"
   ]
  },
  {
   "cell_type": "code",
   "execution_count": 13,
   "id": "f1d46444",
   "metadata": {
    "ExecuteTime": {
     "end_time": "2021-11-28T05:29:07.140753Z",
     "start_time": "2021-11-28T05:29:07.013503Z"
    }
   },
   "outputs": [
    {
     "data": {
      "text/plain": [
       "subj        object\n",
       "roi         object\n",
       "cond        object\n",
       "ll          object\n",
       "item        object\n",
       "comp1       object\n",
       "comp2       object\n",
       "z          float64\n",
       "rd_ll      float64\n",
       "rd_cond    float64\n",
       "Zr_1       float64\n",
       "Zr_2       float64\n",
       "Zr_s       float64\n",
       "Zr_m       float64\n",
       "b_1        float64\n",
       "b_2        float64\n",
       "b_s        float64\n",
       "b_m        float64\n",
       "Zr_wm      float64\n",
       "b_wm       float64\n",
       "dtype: object"
      ]
     },
     "execution_count": 13,
     "metadata": {},
     "output_type": "execute_result"
    }
   ],
   "source": [
    "# 범주형이지만 연속형(int64)으로 설정되어있는 경우 string으로 바꿔주기\n",
    "df['subj']=df['subj'].astype(str)\n",
    "df['cond']=df['cond'].astype(str)\n",
    "df['ll']=df['ll'].astype(str)\n",
    "df['item']=df['item'].astype(str)\n",
    "df['comp1']=df['comp1'].astype(str)\n",
    "df['comp2']=df['comp2'].astype(str)\n",
    "df.dtypes "
   ]
  },
  {
   "cell_type": "markdown",
   "id": "b6a8efff",
   "metadata": {},
   "source": [
    "### Preprocessing"
   ]
  },
  {
   "cell_type": "markdown",
   "id": "2a1998f1",
   "metadata": {},
   "source": [
    "* **tidyverse style pandas**\n",
    "    * **tidyr - pandas**\n",
    "        * mutate - assign\n",
    "        * select - filter\n",
    "        * rename - rename\n",
    "        * filter - query\n",
    "        * arrange - sort_values\n",
    "        * group_by - groupby\n",
    "        * summarize - agg\n",
    "        * gather - melt\n",
    "        * spread - pivot"
   ]
  },
  {
   "cell_type": "code",
   "execution_count": 14,
   "id": "27d41565",
   "metadata": {
    "ExecuteTime": {
     "end_time": "2021-11-28T05:29:07.211210Z",
     "start_time": "2021-11-28T05:29:07.141685Z"
    }
   },
   "outputs": [
    {
     "data": {
      "text/html": [
       "<div>\n",
       "<style scoped>\n",
       "    .dataframe tbody tr th:only-of-type {\n",
       "        vertical-align: middle;\n",
       "    }\n",
       "\n",
       "    .dataframe tbody tr th {\n",
       "        vertical-align: top;\n",
       "    }\n",
       "\n",
       "    .dataframe thead th {\n",
       "        text-align: right;\n",
       "    }\n",
       "</style>\n",
       "<table border=\"1\" class=\"dataframe\">\n",
       "  <thead>\n",
       "    <tr style=\"text-align: right;\">\n",
       "      <th></th>\n",
       "      <th>subj</th>\n",
       "      <th>roi</th>\n",
       "      <th>cond</th>\n",
       "      <th>ll</th>\n",
       "      <th>item</th>\n",
       "      <th>comp1</th>\n",
       "      <th>comp2</th>\n",
       "      <th>z</th>\n",
       "      <th>rd_ll</th>\n",
       "      <th>rd_cond</th>\n",
       "      <th>Zr_1</th>\n",
       "      <th>Zr_2</th>\n",
       "      <th>Zr_s</th>\n",
       "      <th>Zr_m</th>\n",
       "      <th>b_1</th>\n",
       "      <th>b_2</th>\n",
       "      <th>b_s</th>\n",
       "      <th>b_m</th>\n",
       "      <th>Zr_wm</th>\n",
       "      <th>b_wm</th>\n",
       "    </tr>\n",
       "  </thead>\n",
       "  <tbody>\n",
       "    <tr>\n",
       "      <th>count</th>\n",
       "      <td>38016</td>\n",
       "      <td>38016</td>\n",
       "      <td>38016</td>\n",
       "      <td>38016</td>\n",
       "      <td>38016</td>\n",
       "      <td>38016</td>\n",
       "      <td>38016</td>\n",
       "      <td>38016.000000</td>\n",
       "      <td>38016.000000</td>\n",
       "      <td>38016.000000</td>\n",
       "      <td>38016.000000</td>\n",
       "      <td>38016.000000</td>\n",
       "      <td>38016.000000</td>\n",
       "      <td>38016.000000</td>\n",
       "      <td>38016.000000</td>\n",
       "      <td>38016.000000</td>\n",
       "      <td>38016.000000</td>\n",
       "      <td>38016.000000</td>\n",
       "      <td>0.0</td>\n",
       "      <td>0.0</td>\n",
       "    </tr>\n",
       "    <tr>\n",
       "      <th>unique</th>\n",
       "      <td>24</td>\n",
       "      <td>12</td>\n",
       "      <td>2</td>\n",
       "      <td>4</td>\n",
       "      <td>264</td>\n",
       "      <td>19</td>\n",
       "      <td>19</td>\n",
       "      <td>NaN</td>\n",
       "      <td>NaN</td>\n",
       "      <td>NaN</td>\n",
       "      <td>NaN</td>\n",
       "      <td>NaN</td>\n",
       "      <td>NaN</td>\n",
       "      <td>NaN</td>\n",
       "      <td>NaN</td>\n",
       "      <td>NaN</td>\n",
       "      <td>NaN</td>\n",
       "      <td>NaN</td>\n",
       "      <td>NaN</td>\n",
       "      <td>NaN</td>\n",
       "    </tr>\n",
       "    <tr>\n",
       "      <th>top</th>\n",
       "      <td>1</td>\n",
       "      <td>loc</td>\n",
       "      <td>1</td>\n",
       "      <td>1</td>\n",
       "      <td>20203</td>\n",
       "      <td>1</td>\n",
       "      <td>14</td>\n",
       "      <td>NaN</td>\n",
       "      <td>NaN</td>\n",
       "      <td>NaN</td>\n",
       "      <td>NaN</td>\n",
       "      <td>NaN</td>\n",
       "      <td>NaN</td>\n",
       "      <td>NaN</td>\n",
       "      <td>NaN</td>\n",
       "      <td>NaN</td>\n",
       "      <td>NaN</td>\n",
       "      <td>NaN</td>\n",
       "      <td>NaN</td>\n",
       "      <td>NaN</td>\n",
       "    </tr>\n",
       "    <tr>\n",
       "      <th>freq</th>\n",
       "      <td>1584</td>\n",
       "      <td>3168</td>\n",
       "      <td>19008</td>\n",
       "      <td>9504</td>\n",
       "      <td>216</td>\n",
       "      <td>6312</td>\n",
       "      <td>4056</td>\n",
       "      <td>NaN</td>\n",
       "      <td>NaN</td>\n",
       "      <td>NaN</td>\n",
       "      <td>NaN</td>\n",
       "      <td>NaN</td>\n",
       "      <td>NaN</td>\n",
       "      <td>NaN</td>\n",
       "      <td>NaN</td>\n",
       "      <td>NaN</td>\n",
       "      <td>NaN</td>\n",
       "      <td>NaN</td>\n",
       "      <td>NaN</td>\n",
       "      <td>NaN</td>\n",
       "    </tr>\n",
       "    <tr>\n",
       "      <th>mean</th>\n",
       "      <td>NaN</td>\n",
       "      <td>NaN</td>\n",
       "      <td>NaN</td>\n",
       "      <td>NaN</td>\n",
       "      <td>NaN</td>\n",
       "      <td>NaN</td>\n",
       "      <td>NaN</td>\n",
       "      <td>0.268370</td>\n",
       "      <td>0.890519</td>\n",
       "      <td>0.891206</td>\n",
       "      <td>0.077718</td>\n",
       "      <td>0.077431</td>\n",
       "      <td>0.077574</td>\n",
       "      <td>0.096636</td>\n",
       "      <td>0.046737</td>\n",
       "      <td>0.046192</td>\n",
       "      <td>0.046465</td>\n",
       "      <td>0.095144</td>\n",
       "      <td>NaN</td>\n",
       "      <td>NaN</td>\n",
       "    </tr>\n",
       "    <tr>\n",
       "      <th>std</th>\n",
       "      <td>NaN</td>\n",
       "      <td>NaN</td>\n",
       "      <td>NaN</td>\n",
       "      <td>NaN</td>\n",
       "      <td>NaN</td>\n",
       "      <td>NaN</td>\n",
       "      <td>NaN</td>\n",
       "      <td>0.633812</td>\n",
       "      <td>0.144079</td>\n",
       "      <td>0.142009</td>\n",
       "      <td>0.210166</td>\n",
       "      <td>0.210233</td>\n",
       "      <td>0.178061</td>\n",
       "      <td>0.223164</td>\n",
       "      <td>0.159033</td>\n",
       "      <td>0.162393</td>\n",
       "      <td>0.112774</td>\n",
       "      <td>0.229099</td>\n",
       "      <td>NaN</td>\n",
       "      <td>NaN</td>\n",
       "    </tr>\n",
       "    <tr>\n",
       "      <th>min</th>\n",
       "      <td>NaN</td>\n",
       "      <td>NaN</td>\n",
       "      <td>NaN</td>\n",
       "      <td>NaN</td>\n",
       "      <td>NaN</td>\n",
       "      <td>NaN</td>\n",
       "      <td>NaN</td>\n",
       "      <td>-5.375781</td>\n",
       "      <td>0.275210</td>\n",
       "      <td>0.295550</td>\n",
       "      <td>-1.166095</td>\n",
       "      <td>-1.129066</td>\n",
       "      <td>-0.895102</td>\n",
       "      <td>-1.154292</td>\n",
       "      <td>-1.015663</td>\n",
       "      <td>-1.378982</td>\n",
       "      <td>-0.683348</td>\n",
       "      <td>-1.369066</td>\n",
       "      <td>NaN</td>\n",
       "      <td>NaN</td>\n",
       "    </tr>\n",
       "    <tr>\n",
       "      <th>25%</th>\n",
       "      <td>NaN</td>\n",
       "      <td>NaN</td>\n",
       "      <td>NaN</td>\n",
       "      <td>NaN</td>\n",
       "      <td>NaN</td>\n",
       "      <td>NaN</td>\n",
       "      <td>NaN</td>\n",
       "      <td>-0.093046</td>\n",
       "      <td>0.843164</td>\n",
       "      <td>0.846574</td>\n",
       "      <td>-0.051240</td>\n",
       "      <td>-0.051194</td>\n",
       "      <td>-0.030740</td>\n",
       "      <td>-0.041172</td>\n",
       "      <td>-0.047971</td>\n",
       "      <td>-0.047607</td>\n",
       "      <td>-0.022167</td>\n",
       "      <td>-0.044297</td>\n",
       "      <td>NaN</td>\n",
       "      <td>NaN</td>\n",
       "    </tr>\n",
       "    <tr>\n",
       "      <th>50%</th>\n",
       "      <td>NaN</td>\n",
       "      <td>NaN</td>\n",
       "      <td>NaN</td>\n",
       "      <td>NaN</td>\n",
       "      <td>NaN</td>\n",
       "      <td>NaN</td>\n",
       "      <td>NaN</td>\n",
       "      <td>0.206467</td>\n",
       "      <td>0.941848</td>\n",
       "      <td>0.944719</td>\n",
       "      <td>0.057624</td>\n",
       "      <td>0.055460</td>\n",
       "      <td>0.050731</td>\n",
       "      <td>0.067215</td>\n",
       "      <td>0.037029</td>\n",
       "      <td>0.036473</td>\n",
       "      <td>0.034590</td>\n",
       "      <td>0.070366</td>\n",
       "      <td>NaN</td>\n",
       "      <td>NaN</td>\n",
       "    </tr>\n",
       "    <tr>\n",
       "      <th>75%</th>\n",
       "      <td>NaN</td>\n",
       "      <td>NaN</td>\n",
       "      <td>NaN</td>\n",
       "      <td>NaN</td>\n",
       "      <td>NaN</td>\n",
       "      <td>NaN</td>\n",
       "      <td>NaN</td>\n",
       "      <td>0.574504</td>\n",
       "      <td>0.983062</td>\n",
       "      <td>0.982577</td>\n",
       "      <td>0.185612</td>\n",
       "      <td>0.186247</td>\n",
       "      <td>0.159385</td>\n",
       "      <td>0.208060</td>\n",
       "      <td>0.129384</td>\n",
       "      <td>0.129994</td>\n",
       "      <td>0.104299</td>\n",
       "      <td>0.211549</td>\n",
       "      <td>NaN</td>\n",
       "      <td>NaN</td>\n",
       "    </tr>\n",
       "    <tr>\n",
       "      <th>max</th>\n",
       "      <td>NaN</td>\n",
       "      <td>NaN</td>\n",
       "      <td>NaN</td>\n",
       "      <td>NaN</td>\n",
       "      <td>NaN</td>\n",
       "      <td>NaN</td>\n",
       "      <td>NaN</td>\n",
       "      <td>4.492980</td>\n",
       "      <td>1.302216</td>\n",
       "      <td>1.291541</td>\n",
       "      <td>1.210359</td>\n",
       "      <td>1.481196</td>\n",
       "      <td>1.009792</td>\n",
       "      <td>1.182038</td>\n",
       "      <td>1.132774</td>\n",
       "      <td>1.357869</td>\n",
       "      <td>0.687433</td>\n",
       "      <td>1.689432</td>\n",
       "      <td>NaN</td>\n",
       "      <td>NaN</td>\n",
       "    </tr>\n",
       "  </tbody>\n",
       "</table>\n",
       "</div>"
      ],
      "text/plain": [
       "         subj    roi   cond     ll   item  comp1  comp2             z  \\\n",
       "count   38016  38016  38016  38016  38016  38016  38016  38016.000000   \n",
       "unique     24     12      2      4    264     19     19           NaN   \n",
       "top         1    loc      1      1  20203      1     14           NaN   \n",
       "freq     1584   3168  19008   9504    216   6312   4056           NaN   \n",
       "mean      NaN    NaN    NaN    NaN    NaN    NaN    NaN      0.268370   \n",
       "std       NaN    NaN    NaN    NaN    NaN    NaN    NaN      0.633812   \n",
       "min       NaN    NaN    NaN    NaN    NaN    NaN    NaN     -5.375781   \n",
       "25%       NaN    NaN    NaN    NaN    NaN    NaN    NaN     -0.093046   \n",
       "50%       NaN    NaN    NaN    NaN    NaN    NaN    NaN      0.206467   \n",
       "75%       NaN    NaN    NaN    NaN    NaN    NaN    NaN      0.574504   \n",
       "max       NaN    NaN    NaN    NaN    NaN    NaN    NaN      4.492980   \n",
       "\n",
       "               rd_ll       rd_cond          Zr_1          Zr_2          Zr_s  \\\n",
       "count   38016.000000  38016.000000  38016.000000  38016.000000  38016.000000   \n",
       "unique           NaN           NaN           NaN           NaN           NaN   \n",
       "top              NaN           NaN           NaN           NaN           NaN   \n",
       "freq             NaN           NaN           NaN           NaN           NaN   \n",
       "mean        0.890519      0.891206      0.077718      0.077431      0.077574   \n",
       "std         0.144079      0.142009      0.210166      0.210233      0.178061   \n",
       "min         0.275210      0.295550     -1.166095     -1.129066     -0.895102   \n",
       "25%         0.843164      0.846574     -0.051240     -0.051194     -0.030740   \n",
       "50%         0.941848      0.944719      0.057624      0.055460      0.050731   \n",
       "75%         0.983062      0.982577      0.185612      0.186247      0.159385   \n",
       "max         1.302216      1.291541      1.210359      1.481196      1.009792   \n",
       "\n",
       "                Zr_m           b_1           b_2           b_s           b_m  \\\n",
       "count   38016.000000  38016.000000  38016.000000  38016.000000  38016.000000   \n",
       "unique           NaN           NaN           NaN           NaN           NaN   \n",
       "top              NaN           NaN           NaN           NaN           NaN   \n",
       "freq             NaN           NaN           NaN           NaN           NaN   \n",
       "mean        0.096636      0.046737      0.046192      0.046465      0.095144   \n",
       "std         0.223164      0.159033      0.162393      0.112774      0.229099   \n",
       "min        -1.154292     -1.015663     -1.378982     -0.683348     -1.369066   \n",
       "25%        -0.041172     -0.047971     -0.047607     -0.022167     -0.044297   \n",
       "50%         0.067215      0.037029      0.036473      0.034590      0.070366   \n",
       "75%         0.208060      0.129384      0.129994      0.104299      0.211549   \n",
       "max         1.182038      1.132774      1.357869      0.687433      1.689432   \n",
       "\n",
       "        Zr_wm  b_wm  \n",
       "count     0.0   0.0  \n",
       "unique    NaN   NaN  \n",
       "top       NaN   NaN  \n",
       "freq      NaN   NaN  \n",
       "mean      NaN   NaN  \n",
       "std       NaN   NaN  \n",
       "min       NaN   NaN  \n",
       "25%       NaN   NaN  \n",
       "50%       NaN   NaN  \n",
       "75%       NaN   NaN  \n",
       "max       NaN   NaN  "
      ]
     },
     "execution_count": 14,
     "metadata": {},
     "output_type": "execute_result"
    }
   ],
   "source": [
    "df.describe(include='all')"
   ]
  },
  {
   "cell_type": "code",
   "execution_count": 15,
   "id": "b5925a63",
   "metadata": {
    "ExecuteTime": {
     "end_time": "2021-11-28T05:29:07.228514Z",
     "start_time": "2021-11-28T05:29:07.212155Z"
    }
   },
   "outputs": [],
   "source": [
    "df2 = (df\n",
    " .filter(['subj', 'roi', 'cond', 'item', 'z', 'b_m', 'rd_ll'])\n",
    " .query('roi == \"loc\" | roi == \"pf\"')\n",
    " .rename(columns={'subj':'sn', 'cond':'con', 'z':'Z', 'b_m':'beta', 'rd_ll':'Zr_n'}))\n",
    "df2['con'] = df2['con'].replace(['1','2'], ['cons','imm'])"
   ]
  },
  {
   "cell_type": "code",
   "execution_count": 16,
   "id": "7ac09b70",
   "metadata": {
    "ExecuteTime": {
     "end_time": "2021-11-28T05:29:07.236780Z",
     "start_time": "2021-11-28T05:29:07.229448Z"
    }
   },
   "outputs": [
    {
     "name": "stdout",
     "output_type": "stream",
     "text": [
      "<class 'pandas.core.frame.DataFrame'>\n",
      "Int64Index: 6336 entries, 0 to 36959\n",
      "Data columns (total 7 columns):\n",
      " #   Column  Non-Null Count  Dtype  \n",
      "---  ------  --------------  -----  \n",
      " 0   sn      6336 non-null   object \n",
      " 1   roi     6336 non-null   object \n",
      " 2   con     6336 non-null   object \n",
      " 3   item    6336 non-null   object \n",
      " 4   Z       6336 non-null   float64\n",
      " 5   beta    6336 non-null   float64\n",
      " 6   Zr_n    6336 non-null   float64\n",
      "dtypes: float64(3), object(4)\n",
      "memory usage: 396.0+ KB\n"
     ]
    }
   ],
   "source": [
    "df2.info()"
   ]
  },
  {
   "cell_type": "markdown",
   "id": "4d2e5c15",
   "metadata": {},
   "source": [
    "#### Long Format"
   ]
  },
  {
   "cell_type": "code",
   "execution_count": 17,
   "id": "8d4156ff",
   "metadata": {
    "ExecuteTime": {
     "end_time": "2021-11-28T05:29:07.254390Z",
     "start_time": "2021-11-28T05:29:07.237763Z"
    }
   },
   "outputs": [],
   "source": [
    "Z_long = (df2\n",
    "          .filter(['sn', 'roi', 'con', 'Z'])\n",
    "          .groupby(['sn', 'roi', 'con'])\n",
    "          .agg({'Z': ['mean', 'std', 'count']}))\n",
    "\n",
    "beta_long = (df2\n",
    "             .filter(['sn', 'roi', 'con', 'beta'])\n",
    "             .groupby(['sn', 'roi', 'con'])\n",
    "             .agg({'beta': ['mean', 'std', 'count']}))\n",
    "\n",
    "Zr_long = (df2\n",
    "           .filter(['sn', 'roi', 'con', 'Zr_n'])\n",
    "           .assign(Zr=lambda x: 1-x.Zr_n)\n",
    "           .filter(['sn', 'roi', 'con', 'Zr'])\n",
    "           .groupby(['sn', 'roi', 'con'])\n",
    "           .agg({'Zr': ['mean', 'std', 'count']}))"
   ]
  },
  {
   "cell_type": "code",
   "execution_count": 18,
   "id": "06b4f268",
   "metadata": {
    "ExecuteTime": {
     "end_time": "2021-11-28T05:29:07.261905Z",
     "start_time": "2021-11-28T05:29:07.255295Z"
    }
   },
   "outputs": [
    {
     "name": "stdout",
     "output_type": "stream",
     "text": [
      "                    Z                \n",
      "                 mean       std count\n",
      "sn roi con                           \n",
      "1  loc cons  1.085557  0.591436    66\n",
      "       imm   0.895288  0.540499    66\n",
      "   pf  cons  0.406269  0.351890    66\n",
      "       imm   0.324837  0.348329    66\n",
      "                 beta                \n",
      "                 mean       std count\n",
      "sn roi con                           \n",
      "1  loc cons  0.394441  0.261579    66\n",
      "       imm   0.288257  0.251469    66\n",
      "   pf  cons  0.079983  0.161896    66\n",
      "       imm   0.074869  0.179356    66\n",
      "                   Zr                \n",
      "                 mean       std count\n",
      "sn roi con                           \n",
      "1  loc cons  0.441953  0.091241    66\n",
      "       imm   0.379559  0.099872    66\n",
      "   pf  cons  0.122856  0.070878    66\n",
      "       imm   0.105637  0.067683    66\n"
     ]
    }
   ],
   "source": [
    "print(Z_long.head(4))\n",
    "print(beta_long.head(4))\n",
    "print(Zr_long.head(4))"
   ]
  },
  {
   "cell_type": "markdown",
   "id": "15a566ca",
   "metadata": {},
   "source": [
    "#### Wide Format"
   ]
  },
  {
   "cell_type": "code",
   "execution_count": 19,
   "id": "caab76a8",
   "metadata": {
    "ExecuteTime": {
     "end_time": "2021-11-28T05:29:07.278125Z",
     "start_time": "2021-11-28T05:29:07.262833Z"
    }
   },
   "outputs": [],
   "source": [
    "Z_wide = (Z_long['Z'].reset_index()\n",
    " .filter(['sn','roi', 'con', 'mean'])\n",
    " .rename(columns={'mean':'Z'})\n",
    " .pivot(index=['sn','roi'], columns='con', values='Z'))\n",
    "\n",
    "beta_wide = (beta_long['beta'].reset_index()\n",
    " .filter(['sn','roi', 'con', 'mean'])\n",
    " .rename(columns={'mean':'beta'})\n",
    " .pivot(index=['sn','roi'], columns='con', values='beta'))\n",
    "\n",
    "Zr_wide = (Zr_long['Zr'].reset_index()\n",
    " .filter(['sn','roi', 'con', 'mean'])\n",
    " .rename(columns={'mean':'Zr'})\n",
    " .pivot(index=['sn','roi'], columns='con', values='Zr'))\n"
   ]
  },
  {
   "cell_type": "code",
   "execution_count": 20,
   "id": "03f48632",
   "metadata": {
    "ExecuteTime": {
     "end_time": "2021-11-28T05:29:07.285328Z",
     "start_time": "2021-11-28T05:29:07.279046Z"
    }
   },
   "outputs": [
    {
     "name": "stdout",
     "output_type": "stream",
     "text": [
      "con         cons       imm\n",
      "sn roi                    \n",
      "1  loc  1.085557  0.895288\n",
      "   pf   0.406269  0.324837\n",
      "10 loc  0.455391  0.460376\n",
      "   pf   0.220089  0.291423\n",
      "con         cons       imm\n",
      "sn roi                    \n",
      "1  loc  0.394441  0.288257\n",
      "   pf   0.079983  0.074869\n",
      "10 loc  0.124292  0.134956\n",
      "   pf   0.041539  0.070503\n",
      "con         cons       imm\n",
      "sn roi                    \n",
      "1  loc  0.441953  0.379559\n",
      "   pf   0.122856  0.105637\n",
      "10 loc  0.162410  0.146782\n",
      "   pf   0.070441  0.061856\n"
     ]
    }
   ],
   "source": [
    "print(Z_wide.head(4))\n",
    "print(beta_wide.head(4))\n",
    "print(Zr_wide.head(4))"
   ]
  },
  {
   "cell_type": "markdown",
   "id": "697ec378",
   "metadata": {},
   "source": [
    "#### Outlier Handling"
   ]
  },
  {
   "cell_type": "code",
   "execution_count": 21,
   "id": "4311d090",
   "metadata": {
    "ExecuteTime": {
     "end_time": "2021-11-28T05:29:07.291902Z",
     "start_time": "2021-11-28T05:29:07.286438Z"
    }
   },
   "outputs": [],
   "source": [
    "df2_Z = (df2\n",
    "         .filter(['sn', 'roi', 'con', 'Z']))\n",
    "df2_beta = (df2\n",
    "         .filter(['sn', 'roi', 'con', 'beta']))\n",
    "df2_Zr = (df2\n",
    "          .filter(['sn', 'roi', 'con', 'Zr_n'])\n",
    "          .assign(Zr=lambda x: 1-x.Zr_n)\n",
    "          .filter(['sn','roi','con','Zr']))"
   ]
  },
  {
   "cell_type": "code",
   "execution_count": 22,
   "id": "3368f406",
   "metadata": {
    "ExecuteTime": {
     "end_time": "2021-11-28T05:29:07.298252Z",
     "start_time": "2021-11-28T05:29:07.292801Z"
    }
   },
   "outputs": [
    {
     "name": "stdout",
     "output_type": "stream",
     "text": [
      "  sn  roi   con         Z\n",
      "0  1  loc  cons  0.667815\n",
      "1  1  loc  cons  0.873861\n",
      "  sn  roi   con      beta\n",
      "0  1  loc  cons  0.130898\n",
      "1  1  loc  cons  0.387839\n",
      "  sn  roi   con        Zr\n",
      "0  1  loc  cons  0.216303\n",
      "1  1  loc  cons  0.504231\n"
     ]
    }
   ],
   "source": [
    "print(df2_Z.head(2))\n",
    "print(df2_beta.head(2))\n",
    "print(df2_Zr.head(2))"
   ]
  },
  {
   "cell_type": "code",
   "execution_count": 23,
   "id": "3e8c8d77",
   "metadata": {
    "ExecuteTime": {
     "end_time": "2021-11-28T05:29:07.355503Z",
     "start_time": "2021-11-28T05:29:07.299466Z"
    }
   },
   "outputs": [],
   "source": [
    "# df2_Z_outliers = (df2_Z\n",
    "#                   .groupby(['sn','roi'])\n",
    "#                   .Z.transform(lambda x : (x<x.quantile(0.95))&(x>(x.quantile(0.05)))).eq(0))\n",
    "df2_Z_outliers = (df2_Z\n",
    "                  .groupby(['sn','roi'])\n",
    "                  .Z.transform(lambda x : (x<np.mean(x)+np.std(x)*2)&(x>np.mean(x)-np.std(x)*2)).eq(0))\n",
    "\n",
    "df2_Z_outliers = df2_Z_outliers.to_frame().rename(columns={'Z':'out'})\n",
    "df2_Z = pd.concat([df2_Z, df2_Z_outliers], axis=1)\n",
    "\n",
    "# df2_beta_outliers = (df2_beta\n",
    "#                      .groupby(['sn','roi'])\n",
    "#                      .beta.transform(lambda x : (x<x.quantile(0.95))&(x>(x.quantile(0.05)))).eq(0))\n",
    "df2_beta_outliers = (df2_beta\n",
    "                  .groupby(['sn','roi'])\n",
    "                  .beta.transform(lambda x : (x<np.mean(x)+np.std(x)*2)&(x>np.mean(x)-np.std(x)*2)).eq(0))\n",
    "\n",
    "df2_beta_outliers = df2_beta_outliers.to_frame().rename(columns={'beta':'out'})\n",
    "df2_beta = pd.concat([df2_beta, df2_beta_outliers], axis=1)\n",
    "\n",
    "# df2_Zr_outliers = (df2_Zr\n",
    "#                    .groupby(['sn','roi'])\n",
    "#                    .Zr.transform(lambda x : (x<x.quantile(0.95))&(x>(x.quantile(0.05)))).eq(0))\n",
    "df2_Zr_outliers = (df2_Zr\n",
    "                  .groupby(['sn','roi'])\n",
    "                  .Zr.transform(lambda x : (x<np.mean(x)+np.std(x)*2)&(x>np.mean(x)-np.std(x)*2)).eq(0))\n",
    "\n",
    "df2_Zr_outliers = df2_Zr_outliers.to_frame().rename(columns={'Zr':'out'})\n",
    "df2_Zr = pd.concat([df2_Zr, df2_Zr_outliers], axis=1)"
   ]
  },
  {
   "cell_type": "code",
   "execution_count": 24,
   "id": "0bdf644b",
   "metadata": {
    "ExecuteTime": {
     "end_time": "2021-11-28T05:29:07.361854Z",
     "start_time": "2021-11-28T05:29:07.356904Z"
    }
   },
   "outputs": [
    {
     "name": "stdout",
     "output_type": "stream",
     "text": [
      "*Z\n",
      " False    6036\n",
      "True      300\n",
      "Name: out, dtype: int64\n",
      "*beta\n",
      " False    6012\n",
      "True      324\n",
      "Name: out, dtype: int64\n",
      "*Zr\n",
      " False    6058\n",
      "True      278\n",
      "Name: out, dtype: int64\n"
     ]
    }
   ],
   "source": [
    "print('*Z\\n',df2_Z.out.value_counts())\n",
    "print('*beta\\n',df2_beta.out.value_counts())\n",
    "print('*Zr\\n',df2_Zr.out.value_counts())"
   ]
  },
  {
   "cell_type": "code",
   "execution_count": 25,
   "id": "b815e410",
   "metadata": {
    "ExecuteTime": {
     "end_time": "2021-11-28T05:29:07.375765Z",
     "start_time": "2021-11-28T05:29:07.362756Z"
    }
   },
   "outputs": [],
   "source": [
    "Z_long = (df2_Z\n",
    "          .filter(['sn', 'roi', 'con', 'Z'])\n",
    "          .groupby(['sn', 'roi', 'con'])\n",
    "          .agg({'Z': ['mean', 'std', 'count']}))\n",
    "\n",
    "beta_long = (df2_beta\n",
    "             .filter(['sn', 'roi', 'con', 'beta'])\n",
    "             .groupby(['sn', 'roi', 'con'])\n",
    "             .agg({'beta': ['mean', 'std', 'count']}))\n",
    "\n",
    "Zr_long = (df2_Zr\n",
    "           .filter(['sn', 'roi', 'con', 'Zr'])\n",
    "           .groupby(['sn', 'roi', 'con'])\n",
    "           .agg({'Zr': ['mean', 'std', 'count']}))"
   ]
  },
  {
   "cell_type": "markdown",
   "id": "9e2810e4",
   "metadata": {},
   "source": [
    "### Summarize"
   ]
  },
  {
   "cell_type": "markdown",
   "id": "1ba10c01",
   "metadata": {},
   "source": [
    "#### Activation"
   ]
  },
  {
   "cell_type": "code",
   "execution_count": 26,
   "id": "57ad6549",
   "metadata": {
    "ExecuteTime": {
     "end_time": "2021-11-28T05:29:07.406902Z",
     "start_time": "2021-11-28T05:29:07.376730Z"
    }
   },
   "outputs": [
    {
     "data": {
      "text/html": [
       "<div>\n",
       "<style scoped>\n",
       "    .dataframe tbody tr th:only-of-type {\n",
       "        vertical-align: middle;\n",
       "    }\n",
       "\n",
       "    .dataframe tbody tr th {\n",
       "        vertical-align: top;\n",
       "    }\n",
       "\n",
       "    .dataframe thead th {\n",
       "        text-align: right;\n",
       "    }\n",
       "</style>\n",
       "<table border=\"1\" class=\"dataframe\">\n",
       "  <thead>\n",
       "    <tr style=\"text-align: right;\">\n",
       "      <th></th>\n",
       "      <th>roi</th>\n",
       "      <th>con</th>\n",
       "      <th>mean</th>\n",
       "      <th>std</th>\n",
       "      <th>sem</th>\n",
       "      <th>95ci_hi</th>\n",
       "      <th>95ci_lo</th>\n",
       "    </tr>\n",
       "  </thead>\n",
       "  <tbody>\n",
       "    <tr>\n",
       "      <th>0</th>\n",
       "      <td>loc</td>\n",
       "      <td>cons</td>\n",
       "      <td>0.744149</td>\n",
       "      <td>0.339561</td>\n",
       "      <td>0.069313</td>\n",
       "      <td>0.600765</td>\n",
       "      <td>0.887533</td>\n",
       "    </tr>\n",
       "    <tr>\n",
       "      <th>1</th>\n",
       "      <td>loc</td>\n",
       "      <td>imm</td>\n",
       "      <td>0.703449</td>\n",
       "      <td>0.343071</td>\n",
       "      <td>0.070029</td>\n",
       "      <td>0.558583</td>\n",
       "      <td>0.848315</td>\n",
       "    </tr>\n",
       "    <tr>\n",
       "      <th>2</th>\n",
       "      <td>pf</td>\n",
       "      <td>cons</td>\n",
       "      <td>0.247465</td>\n",
       "      <td>0.182439</td>\n",
       "      <td>0.037240</td>\n",
       "      <td>0.170428</td>\n",
       "      <td>0.324502</td>\n",
       "    </tr>\n",
       "    <tr>\n",
       "      <th>3</th>\n",
       "      <td>pf</td>\n",
       "      <td>imm</td>\n",
       "      <td>0.232592</td>\n",
       "      <td>0.189177</td>\n",
       "      <td>0.038616</td>\n",
       "      <td>0.152710</td>\n",
       "      <td>0.312475</td>\n",
       "    </tr>\n",
       "  </tbody>\n",
       "</table>\n",
       "</div>"
      ],
      "text/plain": [
       "   roi   con      mean       std       sem   95ci_hi   95ci_lo\n",
       "0  loc  cons  0.744149  0.339561  0.069313  0.600765  0.887533\n",
       "1  loc   imm  0.703449  0.343071  0.070029  0.558583  0.848315\n",
       "2   pf  cons  0.247465  0.182439  0.037240  0.170428  0.324502\n",
       "3   pf   imm  0.232592  0.189177  0.038616  0.152710  0.312475"
      ]
     },
     "execution_count": 26,
     "metadata": {},
     "output_type": "execute_result"
    }
   ],
   "source": [
    "Z_G = (Z_long['Z'].reset_index()\n",
    "       .filter(['sn', 'roi', 'con', 'mean'])\n",
    "       .rename(columns={'mean': 'Z'})\n",
    "       .groupby(['roi', 'con'])\n",
    "       .agg({'Z': ['mean', 'std', 'sem']}))\n",
    "\n",
    "Z_long_cons = (Z_long['Z'].reset_index()\n",
    "               .filter(['sn', 'roi', 'con', 'mean'])\n",
    "               .rename(columns={'mean': 'Z'})\n",
    "               .query('con ==\"cons\"'))\n",
    "Z_long_imm = (Z_long['Z'].reset_index()\n",
    "              .filter(['sn', 'roi', 'con', 'mean'])\n",
    "              .rename(columns={'mean': 'Z'})\n",
    "              .query('con ==\"imm\"'))\n",
    "\n",
    "ci = pd.DataFrame([stats.t.interval(alpha=0.95,\n",
    "                                    df=len(\n",
    "                                        Z_long_cons[Z_long_cons['roi'] == 'loc'])-1,\n",
    "                                    loc=np.mean(\n",
    "                                        Z_long_cons[Z_long_cons['roi'] == 'loc'].Z),\n",
    "                                    scale=stats.sem(Z_long_cons[Z_long_cons['roi'] == 'loc'].Z)),\n",
    "                   stats.t.interval(alpha=0.95, df=len(Z_long_imm[Z_long_imm['roi'] == 'loc'])-1,\n",
    "                                    loc=np.mean(\n",
    "                                        Z_long_imm[Z_long_imm['roi'] == 'loc'].Z),\n",
    "                                    scale=stats.sem(Z_long_imm[Z_long_imm['roi'] == 'loc'].Z)),\n",
    "                   stats.t.interval(alpha=0.95,\n",
    "                                    df=len(\n",
    "                                        Z_long_cons[Z_long_cons['roi'] == 'pf'])-1,\n",
    "                                    loc=np.mean(\n",
    "                                        Z_long_cons[Z_long_cons['roi'] == 'pf'].Z),\n",
    "                                    scale=stats.sem(Z_long_cons[Z_long_cons['roi'] == 'pf'].Z)),\n",
    "                   stats.t.interval(alpha=0.95, df=len(Z_long_imm[Z_long_imm['roi'] == 'pf'])-1,\n",
    "                                    loc=np.mean(\n",
    "                                        Z_long_imm[Z_long_imm['roi'] == 'pf'].Z),\n",
    "                                    scale=stats.sem(Z_long_imm[Z_long_imm['roi'] == 'pf'].Z))\n",
    "                   ])\n",
    "\n",
    "Z_G = pd.concat([Z_G.Z.reset_index(), ci], axis=1)  # column bind\n",
    "Z_G = (Z_G\n",
    "       .rename(columns={0: '95ci_hi', 1: '95ci_lo'}))\n",
    "Z_G"
   ]
  },
  {
   "cell_type": "markdown",
   "id": "f6ee2461",
   "metadata": {},
   "source": [
    "#### Beta"
   ]
  },
  {
   "cell_type": "code",
   "execution_count": 27,
   "id": "1dd7b371",
   "metadata": {
    "ExecuteTime": {
     "end_time": "2021-11-28T05:29:07.439082Z",
     "start_time": "2021-11-28T05:29:07.412370Z"
    }
   },
   "outputs": [
    {
     "data": {
      "text/html": [
       "<div>\n",
       "<style scoped>\n",
       "    .dataframe tbody tr th:only-of-type {\n",
       "        vertical-align: middle;\n",
       "    }\n",
       "\n",
       "    .dataframe tbody tr th {\n",
       "        vertical-align: top;\n",
       "    }\n",
       "\n",
       "    .dataframe thead th {\n",
       "        text-align: right;\n",
       "    }\n",
       "</style>\n",
       "<table border=\"1\" class=\"dataframe\">\n",
       "  <thead>\n",
       "    <tr style=\"text-align: right;\">\n",
       "      <th></th>\n",
       "      <th>roi</th>\n",
       "      <th>con</th>\n",
       "      <th>mean</th>\n",
       "      <th>std</th>\n",
       "      <th>sem</th>\n",
       "      <th>95ci_hi</th>\n",
       "      <th>95ci_lo</th>\n",
       "    </tr>\n",
       "  </thead>\n",
       "  <tbody>\n",
       "    <tr>\n",
       "      <th>0</th>\n",
       "      <td>loc</td>\n",
       "      <td>cons</td>\n",
       "      <td>0.284502</td>\n",
       "      <td>0.136095</td>\n",
       "      <td>0.027780</td>\n",
       "      <td>0.227034</td>\n",
       "      <td>0.341970</td>\n",
       "    </tr>\n",
       "    <tr>\n",
       "      <th>1</th>\n",
       "      <td>loc</td>\n",
       "      <td>imm</td>\n",
       "      <td>0.260502</td>\n",
       "      <td>0.128566</td>\n",
       "      <td>0.026243</td>\n",
       "      <td>0.206213</td>\n",
       "      <td>0.314790</td>\n",
       "    </tr>\n",
       "    <tr>\n",
       "      <th>2</th>\n",
       "      <td>pf</td>\n",
       "      <td>cons</td>\n",
       "      <td>0.093906</td>\n",
       "      <td>0.075034</td>\n",
       "      <td>0.015316</td>\n",
       "      <td>0.062221</td>\n",
       "      <td>0.125590</td>\n",
       "    </tr>\n",
       "    <tr>\n",
       "      <th>3</th>\n",
       "      <td>pf</td>\n",
       "      <td>imm</td>\n",
       "      <td>0.085180</td>\n",
       "      <td>0.071422</td>\n",
       "      <td>0.014579</td>\n",
       "      <td>0.055021</td>\n",
       "      <td>0.115339</td>\n",
       "    </tr>\n",
       "  </tbody>\n",
       "</table>\n",
       "</div>"
      ],
      "text/plain": [
       "   roi   con      mean       std       sem   95ci_hi   95ci_lo\n",
       "0  loc  cons  0.284502  0.136095  0.027780  0.227034  0.341970\n",
       "1  loc   imm  0.260502  0.128566  0.026243  0.206213  0.314790\n",
       "2   pf  cons  0.093906  0.075034  0.015316  0.062221  0.125590\n",
       "3   pf   imm  0.085180  0.071422  0.014579  0.055021  0.115339"
      ]
     },
     "execution_count": 27,
     "metadata": {},
     "output_type": "execute_result"
    }
   ],
   "source": [
    "beta_G = (beta_long['beta'].reset_index()\n",
    "          .filter(['sn', 'roi', 'con', 'mean'])\n",
    "          .rename(columns={'mean': 'beta'})\n",
    "          .groupby(['roi', 'con'])\n",
    "          .agg({'beta': ['mean', 'std', 'sem']}))\n",
    "\n",
    "beta_long_cons = (beta_long['beta'].reset_index()\n",
    "                  .filter(['sn', 'roi', 'con', 'mean'])\n",
    "                  .rename(columns={'mean': 'beta'})\n",
    "                  .query('con ==\"cons\"'))\n",
    "beta_long_imm = (beta_long['beta'].reset_index()\n",
    "                 .filter(['sn', 'roi', 'con', 'mean'])\n",
    "                 .rename(columns={'mean': 'beta'})\n",
    "                 .query('con ==\"imm\"'))\n",
    "\n",
    "ci = pd.DataFrame([stats.t.interval(alpha=0.95,\n",
    "                                    df=len(\n",
    "                                        beta_long_cons[beta_long_cons['roi'] == 'loc'])-1,\n",
    "                                    loc=np.mean(\n",
    "                                        beta_long_cons[beta_long_cons['roi'] == 'loc'].beta),\n",
    "                                    scale=stats.sem(beta_long_cons[beta_long_cons['roi'] == 'loc'].beta)),\n",
    "                   stats.t.interval(alpha=0.95, df=len(beta_long_imm[beta_long_imm['roi'] == 'loc'])-1,\n",
    "                                    loc=np.mean(\n",
    "                                        beta_long_imm[beta_long_imm['roi'] == 'loc'].beta),\n",
    "                                    scale=stats.sem(beta_long_imm[beta_long_imm['roi'] == 'loc'].beta)),\n",
    "                   stats.t.interval(alpha=0.95,\n",
    "                                    df=len(\n",
    "                                        beta_long_cons[beta_long_cons['roi'] == 'pf'])-1,\n",
    "                                    loc=np.mean(\n",
    "                                        beta_long_cons[beta_long_cons['roi'] == 'pf'].beta),\n",
    "                                    scale=stats.sem(beta_long_cons[beta_long_cons['roi'] == 'pf'].beta)),\n",
    "                   stats.t.interval(alpha=0.95, df=len(beta_long_imm[beta_long_imm['roi'] == 'pf'])-1,\n",
    "                                    loc=np.mean(\n",
    "                                        beta_long_imm[beta_long_imm['roi'] == 'pf'].beta),\n",
    "                                    scale=stats.sem(beta_long_imm[beta_long_imm['roi'] == 'pf'].beta))\n",
    "                   ])\n",
    "beta_G = pd.concat([beta_G.beta.reset_index(), ci], axis=1)  # column bind\n",
    "beta_G = (beta_G\n",
    "          .rename(columns={0: '95ci_hi', 1: '95ci_lo'}))\n",
    "beta_G"
   ]
  },
  {
   "cell_type": "markdown",
   "id": "afc1707f",
   "metadata": {},
   "source": [
    "#### Zr"
   ]
  },
  {
   "cell_type": "code",
   "execution_count": 28,
   "id": "79a40d87",
   "metadata": {
    "ExecuteTime": {
     "end_time": "2021-11-28T05:29:07.465722Z",
     "start_time": "2021-11-28T05:29:07.440083Z"
    }
   },
   "outputs": [
    {
     "data": {
      "text/html": [
       "<div>\n",
       "<style scoped>\n",
       "    .dataframe tbody tr th:only-of-type {\n",
       "        vertical-align: middle;\n",
       "    }\n",
       "\n",
       "    .dataframe tbody tr th {\n",
       "        vertical-align: top;\n",
       "    }\n",
       "\n",
       "    .dataframe thead th {\n",
       "        text-align: right;\n",
       "    }\n",
       "</style>\n",
       "<table border=\"1\" class=\"dataframe\">\n",
       "  <thead>\n",
       "    <tr style=\"text-align: right;\">\n",
       "      <th></th>\n",
       "      <th>roi</th>\n",
       "      <th>con</th>\n",
       "      <th>mean</th>\n",
       "      <th>std</th>\n",
       "      <th>sem</th>\n",
       "      <th>95ci_hi</th>\n",
       "      <th>95ci_lo</th>\n",
       "    </tr>\n",
       "  </thead>\n",
       "  <tbody>\n",
       "    <tr>\n",
       "      <th>0</th>\n",
       "      <td>loc</td>\n",
       "      <td>cons</td>\n",
       "      <td>0.296430</td>\n",
       "      <td>0.135909</td>\n",
       "      <td>0.027742</td>\n",
       "      <td>0.239041</td>\n",
       "      <td>0.353819</td>\n",
       "    </tr>\n",
       "    <tr>\n",
       "      <th>1</th>\n",
       "      <td>loc</td>\n",
       "      <td>imm</td>\n",
       "      <td>0.277132</td>\n",
       "      <td>0.128406</td>\n",
       "      <td>0.026211</td>\n",
       "      <td>0.222910</td>\n",
       "      <td>0.331353</td>\n",
       "    </tr>\n",
       "    <tr>\n",
       "      <th>2</th>\n",
       "      <td>pf</td>\n",
       "      <td>cons</td>\n",
       "      <td>0.103879</td>\n",
       "      <td>0.067542</td>\n",
       "      <td>0.013787</td>\n",
       "      <td>0.075359</td>\n",
       "      <td>0.132400</td>\n",
       "    </tr>\n",
       "    <tr>\n",
       "      <th>3</th>\n",
       "      <td>pf</td>\n",
       "      <td>imm</td>\n",
       "      <td>0.093853</td>\n",
       "      <td>0.058852</td>\n",
       "      <td>0.012013</td>\n",
       "      <td>0.069002</td>\n",
       "      <td>0.118704</td>\n",
       "    </tr>\n",
       "  </tbody>\n",
       "</table>\n",
       "</div>"
      ],
      "text/plain": [
       "   roi   con      mean       std       sem   95ci_hi   95ci_lo\n",
       "0  loc  cons  0.296430  0.135909  0.027742  0.239041  0.353819\n",
       "1  loc   imm  0.277132  0.128406  0.026211  0.222910  0.331353\n",
       "2   pf  cons  0.103879  0.067542  0.013787  0.075359  0.132400\n",
       "3   pf   imm  0.093853  0.058852  0.012013  0.069002  0.118704"
      ]
     },
     "execution_count": 28,
     "metadata": {},
     "output_type": "execute_result"
    }
   ],
   "source": [
    "Zr_G = (Zr_long['Zr'].reset_index()\n",
    "        .filter(['sn', 'roi', 'con', 'mean'])\n",
    "        .rename(columns={'mean': 'Zr'})\n",
    "        .groupby(['roi', 'con'])\n",
    "        .agg({'Zr': ['mean', 'std', 'sem']}))\n",
    "\n",
    "Zr_long_cons = (Zr_long['Zr'].reset_index()\n",
    "                .filter(['sn', 'roi', 'con', 'mean'])\n",
    "                .rename(columns={'mean': 'Zr'})\n",
    "                .query('con ==\"cons\"'))\n",
    "Zr_long_imm = (Zr_long['Zr'].reset_index()\n",
    "               .filter(['sn', 'roi', 'con', 'mean'])\n",
    "               .rename(columns={'mean': 'Zr'})\n",
    "               .query('con ==\"imm\"'))\n",
    "\n",
    "ci = pd.DataFrame([stats.t.interval(alpha=0.95,\n",
    "                                    df=len(\n",
    "                                        Zr_long_cons[Zr_long_cons['roi'] == 'loc'])-1,\n",
    "                                    loc=np.mean(\n",
    "                                        Zr_long_cons[Zr_long_cons['roi'] == 'loc'].Zr),\n",
    "                                    scale=stats.sem(Zr_long_cons[Zr_long_cons['roi'] == 'loc'].Zr)),\n",
    "                   stats.t.interval(alpha=0.95, df=len(Zr_long_imm[Zr_long_imm['roi'] == 'loc'])-1,\n",
    "                                    loc=np.mean(\n",
    "                                        Zr_long_imm[Zr_long_imm['roi'] == 'loc'].Zr),\n",
    "                                    scale=stats.sem(Zr_long_imm[Zr_long_imm['roi'] == 'loc'].Zr)),\n",
    "                   stats.t.interval(alpha=0.95,\n",
    "                                    df=len(\n",
    "                                        Zr_long_cons[Zr_long_cons['roi'] == 'pf'])-1,\n",
    "                                    loc=np.mean(\n",
    "                                        Zr_long_cons[Zr_long_cons['roi'] == 'pf'].Zr),\n",
    "                                    scale=stats.sem(Zr_long_cons[Zr_long_cons['roi'] == 'pf'].Zr)),\n",
    "                   stats.t.interval(alpha=0.95, df=len(Zr_long_imm[Zr_long_imm['roi'] == 'pf'])-1,\n",
    "                                    loc=np.mean(\n",
    "                                        Zr_long_imm[Zr_long_imm['roi'] == 'pf'].Zr),\n",
    "                                    scale=stats.sem(Zr_long_imm[Zr_long_imm['roi'] == 'pf'].Zr))\n",
    "                   ])\n",
    "Zr_G = pd.concat([Zr_G.Zr.reset_index(), ci], axis=1)  # column bind\n",
    "Zr_G = (Zr_G\n",
    "        .rename(columns={0: '95ci_hi', 1: '95ci_lo'}))\n",
    "Zr_G"
   ]
  },
  {
   "cell_type": "markdown",
   "id": "85f616ae",
   "metadata": {},
   "source": [
    "#### Plotting"
   ]
  },
  {
   "cell_type": "code",
   "execution_count": 29,
   "id": "c57f64da",
   "metadata": {
    "ExecuteTime": {
     "end_time": "2021-11-28T05:29:07.480892Z",
     "start_time": "2021-11-28T05:29:07.466798Z"
    }
   },
   "outputs": [],
   "source": [
    "df_01 = (Z_long['Z'].reset_index()\n",
    "         .rename(columns={'mean':'Z'}))\n",
    "df_02 = (beta_long['beta'].reset_index()\n",
    "         .rename(columns={'mean':'beta'}))\n",
    "df_03 = (Zr_long['Zr'].reset_index()\n",
    "         .rename(columns={'mean':'Zr'}))\n",
    "df_all = pd.merge(df_01, df_02, how='inner', on=['sn','roi','con'])\n",
    "df_all = pd.merge(df_all, df_03, how='inner', on=['sn','roi','con'])\n",
    "df_all = (df_all\n",
    "          .filter(['sn','roi','con','Z','beta','Zr']))\n",
    "#df_all "
   ]
  },
  {
   "cell_type": "code",
   "execution_count": 30,
   "id": "eb92a92d",
   "metadata": {
    "ExecuteTime": {
     "end_time": "2021-11-28T05:29:08.152991Z",
     "start_time": "2021-11-28T05:29:07.481826Z"
    }
   },
   "outputs": [
    {
     "data": {
      "image/png": "[encoded data removed]",
      "text/plain": [
       "<Figure size 1296x864 with 6 Axes>"
      ]
     },
     "metadata": {},
     "output_type": "display_data"
    }
   ],
   "source": [
    "\n",
    "fig, axes = plt.subplots(nrows = 2, ncols=3, figsize=(18, 12))\n",
    "sns.kdeplot(data=Z_long['Z'].reset_index(), x=\"mean\", hue=\"con\", ax=axes[0,0])\n",
    "sns.kdeplot(data=beta_long['beta'].reset_index(), x=\"mean\", hue=\"con\", ax=axes[0,1])\n",
    "sns.kdeplot(data=Zr_long['Zr'].reset_index(), x=\"mean\", hue=\"con\", ax=axes[0,2])\n",
    "# sns.lmplot(data=df_all, x=\"Z\", y=\"beta\", hue=\"con\", ax=axes[1,0])\n",
    "# sns.lmplot(data=df_all, x=\"Z\", y=\"Zr\", hue=\"con\", ax=axes[1,1])\n",
    "# sns.lmplot(data=df_all, x=\"beta\", y=\"Zr\", hue=\"con\", ax=axes[1,2])\n",
    "sns.scatterplot(data=df_all, x=\"Z\", y=\"beta\", hue=\"con\", ax=axes[1,0])\n",
    "sns.scatterplot(data=df_all, x=\"Z\", y=\"Zr\", hue=\"con\", ax=axes[1,1])\n",
    "sns.scatterplot(data=df_all, x=\"beta\", y=\"Zr\", hue=\"con\", ax=axes[1,2])\n",
    "#sns.stripplot(data=df_all, x=\"con\", y=\"Z\", hue=\"con\", ax=axes[2,0])\n",
    "#sns.boxplot(data=df_all, x=\"con\", y=\"Z\", hue=\"con\", dodge=False, ax=axes[2,0])\n",
    "#sns.boxplot(data=df_all, x=\"con\", y=\"beta\", hue=\"con\",dodge=False, ax=axes[2,1])\n",
    "#sns.boxplot(data=df_all, x=\"con\", y=\"Zr\", hue=\"con\", dodge=False,ax=axes[2,2])\n",
    "plt.tight_layout()\n",
    "plt.show()"
   ]
  },
  {
   "cell_type": "code",
   "execution_count": 31,
   "id": "ad221489",
   "metadata": {
    "ExecuteTime": {
     "end_time": "2021-11-28T05:29:08.756610Z",
     "start_time": "2021-11-28T05:29:08.153836Z"
    }
   },
   "outputs": [
    {
     "data": {
      "image/png": "[encoded data removed]",
      "text/plain": [
       "<Figure size 720x360 with 2 Axes>"
      ]
     },
     "metadata": {},
     "output_type": "display_data"
    },
    {
     "data": {
      "image/png": "[encoded data removed]",
      "text/plain": [
       "<Figure size 720x360 with 2 Axes>"
      ]
     },
     "metadata": {},
     "output_type": "display_data"
    },
    {
     "data": {
      "image/png": "[encoded data removed]",
      "text/plain": [
       "<Figure size 720x360 with 2 Axes>"
      ]
     },
     "metadata": {},
     "output_type": "display_data"
    }
   ],
   "source": [
    "g1 = sns.catplot(data=df_all, x=\"con\", y=\"Z\", hue=\"con\", col = \"roi\", kind='boxen', dodge=False)\n",
    "g2 = sns.catplot(data=df_all, x=\"con\", y=\"beta\", hue=\"con\", col = \"roi\", kind='boxen', dodge=False)\n",
    "g3 = sns.catplot(data=df_all, x=\"con\", y=\"Zr\", hue=\"con\", col = \"roi\", kind='boxen', dodge=False)\n",
    "plt.tight_layout()\n",
    "plt.show()"
   ]
  },
  {
   "cell_type": "markdown",
   "id": "0a7e92b7",
   "metadata": {},
   "source": [
    "## Statistical Test - rmANOVA & Post-hoc"
   ]
  },
  {
   "cell_type": "markdown",
   "id": "a1b5069d",
   "metadata": {},
   "source": [
    "### Assumption Check"
   ]
  },
  {
   "cell_type": "code",
   "execution_count": 174,
   "id": "c4e5ad6c",
   "metadata": {
    "ExecuteTime": {
     "end_time": "2021-11-28T06:32:00.109049Z",
     "start_time": "2021-11-28T06:32:00.078119Z"
    }
   },
   "outputs": [
    {
     "data": {
      "text/html": [
       "<div>\n",
       "<style scoped>\n",
       "    .dataframe tbody tr th:only-of-type {\n",
       "        vertical-align: middle;\n",
       "    }\n",
       "\n",
       "    .dataframe tbody tr th {\n",
       "        vertical-align: top;\n",
       "    }\n",
       "\n",
       "    .dataframe thead th {\n",
       "        text-align: right;\n",
       "    }\n",
       "</style>\n",
       "<table border=\"1\" class=\"dataframe\">\n",
       "  <thead>\n",
       "    <tr style=\"text-align: right;\">\n",
       "      <th></th>\n",
       "      <th>W</th>\n",
       "      <th>pval</th>\n",
       "      <th>equal_var</th>\n",
       "    </tr>\n",
       "  </thead>\n",
       "  <tbody>\n",
       "    <tr>\n",
       "      <th>levene</th>\n",
       "      <td>0.005552</td>\n",
       "      <td>0.940762</td>\n",
       "      <td>True</td>\n",
       "    </tr>\n",
       "  </tbody>\n",
       "</table>\n",
       "</div>"
      ],
      "text/plain": [
       "               W      pval  equal_var\n",
       "levene  0.005552  0.940762       True"
      ]
     },
     "execution_count": 174,
     "metadata": {},
     "output_type": "execute_result"
    }
   ],
   "source": [
    "pg.homoscedasticity(data=Z_long.Z.reset_index(), dv='mean', group='con',\n",
    "                   method='levene')"
   ]
  },
  {
   "cell_type": "code",
   "execution_count": 175,
   "id": "86e8ef83",
   "metadata": {
    "ExecuteTime": {
     "end_time": "2021-11-28T06:32:01.004365Z",
     "start_time": "2021-11-28T06:32:00.967413Z"
    }
   },
   "outputs": [
    {
     "name": "stdout",
     "output_type": "stream",
     "text": [
      "True nan nan 1 1.0\n"
     ]
    }
   ],
   "source": [
    "spher, W, chisq, dof, pval = pg.sphericity(data=Z_long.Z.reset_index(), dv='mean', \n",
    "              subject='sn', within=['roi','con'], method='mauchly')\n",
    "print(spher, round(W, 3), round(chisq, 3), dof, round(pval, 3))"
   ]
  },
  {
   "cell_type": "code",
   "execution_count": 176,
   "id": "0788a824",
   "metadata": {
    "ExecuteTime": {
     "end_time": "2021-11-28T06:32:01.723108Z",
     "start_time": "2021-11-28T06:32:01.692742Z"
    }
   },
   "outputs": [
    {
     "data": {
      "text/html": [
       "<div>\n",
       "<style scoped>\n",
       "    .dataframe tbody tr th:only-of-type {\n",
       "        vertical-align: middle;\n",
       "    }\n",
       "\n",
       "    .dataframe tbody tr th {\n",
       "        vertical-align: top;\n",
       "    }\n",
       "\n",
       "    .dataframe thead th {\n",
       "        text-align: right;\n",
       "    }\n",
       "</style>\n",
       "<table border=\"1\" class=\"dataframe\">\n",
       "  <thead>\n",
       "    <tr style=\"text-align: right;\">\n",
       "      <th></th>\n",
       "      <th>W</th>\n",
       "      <th>pval</th>\n",
       "      <th>normal</th>\n",
       "    </tr>\n",
       "  </thead>\n",
       "  <tbody>\n",
       "    <tr>\n",
       "      <th>cons</th>\n",
       "      <td>5.957387</td>\n",
       "      <td>0.050859</td>\n",
       "      <td>True</td>\n",
       "    </tr>\n",
       "    <tr>\n",
       "      <th>imm</th>\n",
       "      <td>3.612369</td>\n",
       "      <td>0.164280</td>\n",
       "      <td>True</td>\n",
       "    </tr>\n",
       "  </tbody>\n",
       "</table>\n",
       "</div>"
      ],
      "text/plain": [
       "             W      pval  normal\n",
       "cons  5.957387  0.050859    True\n",
       "imm   3.612369  0.164280    True"
      ]
     },
     "execution_count": 176,
     "metadata": {},
     "output_type": "execute_result"
    }
   ],
   "source": [
    "pg.normality(data=Z_long.Z.reset_index(), dv='mean', group='con',\n",
    "            method='normaltest') # shapiro"
   ]
  },
  {
   "cell_type": "markdown",
   "id": "7c21d760",
   "metadata": {},
   "source": [
    "### Object-ness - Activation"
   ]
  },
  {
   "cell_type": "code",
   "execution_count": 32,
   "id": "660d66e3",
   "metadata": {
    "ExecuteTime": {
     "end_time": "2021-11-28T05:29:08.795731Z",
     "start_time": "2021-11-28T05:29:08.757505Z"
    }
   },
   "outputs": [
    {
     "data": {
      "text/html": [
       "<div>\n",
       "<style scoped>\n",
       "    .dataframe tbody tr th:only-of-type {\n",
       "        vertical-align: middle;\n",
       "    }\n",
       "\n",
       "    .dataframe tbody tr th {\n",
       "        vertical-align: top;\n",
       "    }\n",
       "\n",
       "    .dataframe thead th {\n",
       "        text-align: right;\n",
       "    }\n",
       "</style>\n",
       "<table border=\"1\" class=\"dataframe\">\n",
       "  <thead>\n",
       "    <tr style=\"text-align: right;\">\n",
       "      <th></th>\n",
       "      <th>Source</th>\n",
       "      <th>SS</th>\n",
       "      <th>ddof1</th>\n",
       "      <th>ddof2</th>\n",
       "      <th>MS</th>\n",
       "      <th>F</th>\n",
       "      <th>p-unc</th>\n",
       "      <th>p-GG-corr</th>\n",
       "      <th>np2</th>\n",
       "      <th>eps</th>\n",
       "    </tr>\n",
       "  </thead>\n",
       "  <tbody>\n",
       "    <tr>\n",
       "      <th>0</th>\n",
       "      <td>roi</td>\n",
       "      <td>5.617</td>\n",
       "      <td>1</td>\n",
       "      <td>23</td>\n",
       "      <td>5.617</td>\n",
       "      <td>63.311</td>\n",
       "      <td>0.000</td>\n",
       "      <td>0.000</td>\n",
       "      <td>0.734</td>\n",
       "      <td>1.0</td>\n",
       "    </tr>\n",
       "    <tr>\n",
       "      <th>1</th>\n",
       "      <td>con</td>\n",
       "      <td>0.019</td>\n",
       "      <td>1</td>\n",
       "      <td>23</td>\n",
       "      <td>0.019</td>\n",
       "      <td>2.394</td>\n",
       "      <td>0.135</td>\n",
       "      <td>0.135</td>\n",
       "      <td>0.094</td>\n",
       "      <td>1.0</td>\n",
       "    </tr>\n",
       "    <tr>\n",
       "      <th>2</th>\n",
       "      <td>roi * con</td>\n",
       "      <td>0.004</td>\n",
       "      <td>1</td>\n",
       "      <td>23</td>\n",
       "      <td>0.004</td>\n",
       "      <td>3.051</td>\n",
       "      <td>0.094</td>\n",
       "      <td>0.094</td>\n",
       "      <td>0.117</td>\n",
       "      <td>1.0</td>\n",
       "    </tr>\n",
       "  </tbody>\n",
       "</table>\n",
       "</div>"
      ],
      "text/plain": [
       "      Source     SS  ddof1  ddof2     MS       F  p-unc  p-GG-corr    np2  eps\n",
       "0        roi  5.617      1     23  5.617  63.311  0.000      0.000  0.734  1.0\n",
       "1        con  0.019      1     23  0.019   2.394  0.135      0.135  0.094  1.0\n",
       "2  roi * con  0.004      1     23  0.004   3.051  0.094      0.094  0.117  1.0"
      ]
     },
     "execution_count": 32,
     "metadata": {},
     "output_type": "execute_result"
    }
   ],
   "source": [
    "aov = pg.rm_anova(dv='mean', within=['roi','con'],\n",
    "                   subject='sn', data=Z_long.Z.reset_index(), detailed=True)\n",
    "aov.round(3)"
   ]
  },
  {
   "cell_type": "code",
   "execution_count": 33,
   "id": "730bc673",
   "metadata": {
    "ExecuteTime": {
     "end_time": "2021-11-28T05:29:09.070106Z",
     "start_time": "2021-11-28T05:29:08.796632Z"
    }
   },
   "outputs": [
    {
     "data": {
      "image/png": "[encoded data removed]",
      "text/plain": [
       "<Figure size 864x288 with 2 Axes>"
      ]
     },
     "metadata": {},
     "output_type": "display_data"
    }
   ],
   "source": [
    "fig, axes = plt.subplots(ncols=2, figsize=(12, 4))\n",
    "sns.pointplot(x=\"roi\", y=\"mean\", hue=\"con\",\n",
    "                    data=Z_long.Z.reset_index(), ax=axes[0])\n",
    "sns.pointplot(x=\"con\", y=\"mean\", hue=\"roi\",\n",
    "                    data=Z_long.Z.reset_index(), ax=axes[1])\n",
    "plt.tight_layout()\n",
    "plt.show()"
   ]
  },
  {
   "cell_type": "code",
   "execution_count": 127,
   "id": "2717cc78",
   "metadata": {
    "ExecuteTime": {
     "end_time": "2021-11-28T06:16:45.682866Z",
     "start_time": "2021-11-28T06:16:45.609122Z"
    }
   },
   "outputs": [
    {
     "name": "stdout",
     "output_type": "stream",
     "text": [
      "\n",
      "==============\n",
      "POST HOC TESTS\n",
      "==============\n",
      "\n",
      "Contrast    A     B      mean(A)    std(A)    mean(B)    std(B)  Paired    Parametric        T     dof  alternative      p-unc    BF10    cohen  roi\n",
      "----------  ----  ---  ---------  --------  ---------  --------  --------  ------------  -----  ------  -------------  -------  ------  -------  -----\n",
      "con         cons  imm      0.744     0.340      0.703     0.343  True      True          1.769  23.000  two-sided        0.090   0.824    0.119  loc\n",
      "con         cons  imm      0.247     0.182      0.233     0.189  True      True          0.992  23.000  two-sided        0.332   0.334    0.080  pf\n",
      "\n"
     ]
    }
   ],
   "source": [
    "#targ_df = Z_long.Z.reset_index()\n",
    "# loc_z = targ_df[targ_df['roi']=='loc'].pairwise_tukey(dv='mean', between='con').round(3)\n",
    "# loc_z['roi'] = 'loc'\n",
    "# pf_z =  targ_df[targ_df['roi']=='pf'].pairwise_tukey(dv='mean', between='con').round(3)\n",
    "# pf_z['roi'] = 'pf'\n",
    "# pd.concat([loc_z, pf_z], axis=0)\n",
    "\n",
    "targ_df = Z_long.Z.reset_index()\n",
    "loc_z = (targ_df[targ_df['roi']=='loc']\n",
    "          .pairwise_ttests(dv='mean', within='con', subject='sn', \n",
    "                           parametric=True, padjust='bonf', effsize = 'cohen',\n",
    "                           return_desc=True)\n",
    "          .round(3))\n",
    "loc_z['roi'] = 'loc'\n",
    "pf_z = (targ_df[targ_df['roi']=='pf']\n",
    "          .pairwise_ttests(dv='mean', within='con', subject='sn', \n",
    "                           parametric=True, padjust='bonf', effsize = 'cohen',\n",
    "                           return_desc=True)\n",
    "          .round(3))\n",
    "pf_z['roi'] = 'pf'\n",
    "print_table(pd.concat([loc_z, pf_z], axis=0)"
   ]
  },
  {
   "cell_type": "markdown",
   "id": "c9a9d5e8",
   "metadata": {},
   "source": [
    "### Constituent Explainability - Beta"
   ]
  },
  {
   "cell_type": "code",
   "execution_count": 130,
   "id": "104d2531",
   "metadata": {
    "ExecuteTime": {
     "end_time": "2021-11-28T06:17:08.314376Z",
     "start_time": "2021-11-28T06:17:08.238689Z"
    }
   },
   "outputs": [
    {
     "data": {
      "text/html": [
       "<div>\n",
       "<style scoped>\n",
       "    .dataframe tbody tr th:only-of-type {\n",
       "        vertical-align: middle;\n",
       "    }\n",
       "\n",
       "    .dataframe tbody tr th {\n",
       "        vertical-align: top;\n",
       "    }\n",
       "\n",
       "    .dataframe thead th {\n",
       "        text-align: right;\n",
       "    }\n",
       "</style>\n",
       "<table border=\"1\" class=\"dataframe\">\n",
       "  <thead>\n",
       "    <tr style=\"text-align: right;\">\n",
       "      <th></th>\n",
       "      <th>Source</th>\n",
       "      <th>SS</th>\n",
       "      <th>ddof1</th>\n",
       "      <th>ddof2</th>\n",
       "      <th>MS</th>\n",
       "      <th>F</th>\n",
       "      <th>p-unc</th>\n",
       "      <th>p-GG-corr</th>\n",
       "      <th>np2</th>\n",
       "      <th>eps</th>\n",
       "    </tr>\n",
       "  </thead>\n",
       "  <tbody>\n",
       "    <tr>\n",
       "      <th>0</th>\n",
       "      <td>roi</td>\n",
       "      <td>0.803</td>\n",
       "      <td>1</td>\n",
       "      <td>23</td>\n",
       "      <td>0.803</td>\n",
       "      <td>58.053</td>\n",
       "      <td>0.000</td>\n",
       "      <td>0.000</td>\n",
       "      <td>0.716</td>\n",
       "      <td>1.0</td>\n",
       "    </tr>\n",
       "    <tr>\n",
       "      <th>1</th>\n",
       "      <td>con</td>\n",
       "      <td>0.006</td>\n",
       "      <td>1</td>\n",
       "      <td>23</td>\n",
       "      <td>0.006</td>\n",
       "      <td>8.372</td>\n",
       "      <td>0.008</td>\n",
       "      <td>0.008</td>\n",
       "      <td>0.267</td>\n",
       "      <td>1.0</td>\n",
       "    </tr>\n",
       "    <tr>\n",
       "      <th>2</th>\n",
       "      <td>roi * con</td>\n",
       "      <td>0.001</td>\n",
       "      <td>1</td>\n",
       "      <td>23</td>\n",
       "      <td>0.001</td>\n",
       "      <td>7.416</td>\n",
       "      <td>0.012</td>\n",
       "      <td>0.012</td>\n",
       "      <td>0.244</td>\n",
       "      <td>1.0</td>\n",
       "    </tr>\n",
       "  </tbody>\n",
       "</table>\n",
       "</div>"
      ],
      "text/plain": [
       "      Source     SS  ddof1  ddof2     MS       F  p-unc  p-GG-corr    np2  eps\n",
       "0        roi  0.803      1     23  0.803  58.053  0.000      0.000  0.716  1.0\n",
       "1        con  0.006      1     23  0.006   8.372  0.008      0.008  0.267  1.0\n",
       "2  roi * con  0.001      1     23  0.001   7.416  0.012      0.012  0.244  1.0"
      ]
     },
     "execution_count": 130,
     "metadata": {},
     "output_type": "execute_result"
    }
   ],
   "source": [
    "aov = pg.rm_anova(dv='mean', within=['roi','con'],\n",
    "                   subject='sn', data=beta_long.beta.reset_index(), detailed=True)\n",
    "aov.round(3)"
   ]
  },
  {
   "cell_type": "code",
   "execution_count": 36,
   "id": "ecfcb72d",
   "metadata": {
    "ExecuteTime": {
     "end_time": "2021-11-28T05:29:09.435891Z",
     "start_time": "2021-11-28T05:29:09.153303Z"
    }
   },
   "outputs": [
    {
     "data": {
      "image/png": "[encoded data removed]",
      "text/plain": [
       "<Figure size 864x288 with 2 Axes>"
      ]
     },
     "metadata": {},
     "output_type": "display_data"
    }
   ],
   "source": [
    "fig, axes = plt.subplots(ncols=2, figsize=(12, 4))\n",
    "sns.pointplot(x=\"roi\", y=\"mean\", hue=\"con\",\n",
    "                    data=beta_long.beta.reset_index(), ax=axes[0])\n",
    "sns.pointplot(x=\"con\", y=\"mean\", hue=\"roi\",\n",
    "                    data=beta_long.beta.reset_index(), ax=axes[1])\n",
    "plt.tight_layout()\n",
    "plt.show()"
   ]
  },
  {
   "cell_type": "code",
   "execution_count": 37,
   "id": "23d2c515",
   "metadata": {
    "ExecuteTime": {
     "end_time": "2021-11-28T05:29:09.478121Z",
     "start_time": "2021-11-28T05:29:09.436797Z"
    }
   },
   "outputs": [
    {
     "data": {
      "text/html": [
       "<div>\n",
       "<style scoped>\n",
       "    .dataframe tbody tr th:only-of-type {\n",
       "        vertical-align: middle;\n",
       "    }\n",
       "\n",
       "    .dataframe tbody tr th {\n",
       "        vertical-align: top;\n",
       "    }\n",
       "\n",
       "    .dataframe thead th {\n",
       "        text-align: right;\n",
       "    }\n",
       "</style>\n",
       "<table border=\"1\" class=\"dataframe\">\n",
       "  <thead>\n",
       "    <tr style=\"text-align: right;\">\n",
       "      <th></th>\n",
       "      <th>Contrast</th>\n",
       "      <th>A</th>\n",
       "      <th>B</th>\n",
       "      <th>mean(A)</th>\n",
       "      <th>std(A)</th>\n",
       "      <th>mean(B)</th>\n",
       "      <th>std(B)</th>\n",
       "      <th>Paired</th>\n",
       "      <th>Parametric</th>\n",
       "      <th>T</th>\n",
       "      <th>dof</th>\n",
       "      <th>alternative</th>\n",
       "      <th>p-unc</th>\n",
       "      <th>BF10</th>\n",
       "      <th>cohen</th>\n",
       "      <th>roi</th>\n",
       "    </tr>\n",
       "  </thead>\n",
       "  <tbody>\n",
       "    <tr>\n",
       "      <th>0</th>\n",
       "      <td>con</td>\n",
       "      <td>cons</td>\n",
       "      <td>imm</td>\n",
       "      <td>0.285</td>\n",
       "      <td>0.136</td>\n",
       "      <td>0.261</td>\n",
       "      <td>0.129</td>\n",
       "      <td>True</td>\n",
       "      <td>True</td>\n",
       "      <td>3.320</td>\n",
       "      <td>23.0</td>\n",
       "      <td>two-sided</td>\n",
       "      <td>0.003</td>\n",
       "      <td>13.554</td>\n",
       "      <td>0.181</td>\n",
       "      <td>loc</td>\n",
       "    </tr>\n",
       "    <tr>\n",
       "      <th>0</th>\n",
       "      <td>con</td>\n",
       "      <td>cons</td>\n",
       "      <td>imm</td>\n",
       "      <td>0.094</td>\n",
       "      <td>0.075</td>\n",
       "      <td>0.085</td>\n",
       "      <td>0.071</td>\n",
       "      <td>True</td>\n",
       "      <td>True</td>\n",
       "      <td>1.666</td>\n",
       "      <td>23.0</td>\n",
       "      <td>two-sided</td>\n",
       "      <td>0.109</td>\n",
       "      <td>0.714</td>\n",
       "      <td>0.119</td>\n",
       "      <td>pf</td>\n",
       "    </tr>\n",
       "  </tbody>\n",
       "</table>\n",
       "</div>"
      ],
      "text/plain": [
       "  Contrast     A    B  mean(A)  std(A)  mean(B)  std(B)  Paired  Parametric  \\\n",
       "0      con  cons  imm    0.285   0.136    0.261   0.129    True        True   \n",
       "0      con  cons  imm    0.094   0.075    0.085   0.071    True        True   \n",
       "\n",
       "       T   dof alternative  p-unc    BF10  cohen  roi  \n",
       "0  3.320  23.0   two-sided  0.003  13.554  0.181  loc  \n",
       "0  1.666  23.0   two-sided  0.109   0.714  0.119   pf  "
      ]
     },
     "execution_count": 37,
     "metadata": {},
     "output_type": "execute_result"
    }
   ],
   "source": [
    "targ_df = beta_long.beta.reset_index()\n",
    "loc_beta = (targ_df[targ_df['roi']=='loc']\n",
    "          .pairwise_ttests(dv='mean', within='con', subject='sn', \n",
    "                           parametric=True, padjust='bonf', effsize = 'cohen',\n",
    "                           return_desc=True)\n",
    "          .round(3))\n",
    "loc_beta['roi'] = 'loc'\n",
    "pf_beta = (targ_df[targ_df['roi']=='pf']\n",
    "          .pairwise_ttests(dv='mean', within='con', subject='sn', \n",
    "                           parametric=True, padjust='bonf', effsize = 'cohen',\n",
    "                           return_desc=True)\n",
    "          .round(3))\n",
    "pf_beta['roi'] = 'pf'\n",
    "pd.concat([loc_beta, pf_beta], axis=0)"
   ]
  },
  {
   "cell_type": "markdown",
   "id": "6ed3bef9",
   "metadata": {},
   "source": [
    "### Representational Similarity - Zr"
   ]
  },
  {
   "cell_type": "code",
   "execution_count": 38,
   "id": "556e5709",
   "metadata": {
    "ExecuteTime": {
     "end_time": "2021-11-28T05:29:09.516079Z",
     "start_time": "2021-11-28T05:29:09.479043Z"
    }
   },
   "outputs": [
    {
     "data": {
      "text/html": [
       "<div>\n",
       "<style scoped>\n",
       "    .dataframe tbody tr th:only-of-type {\n",
       "        vertical-align: middle;\n",
       "    }\n",
       "\n",
       "    .dataframe tbody tr th {\n",
       "        vertical-align: top;\n",
       "    }\n",
       "\n",
       "    .dataframe thead th {\n",
       "        text-align: right;\n",
       "    }\n",
       "</style>\n",
       "<table border=\"1\" class=\"dataframe\">\n",
       "  <thead>\n",
       "    <tr style=\"text-align: right;\">\n",
       "      <th></th>\n",
       "      <th>Source</th>\n",
       "      <th>SS</th>\n",
       "      <th>ddof1</th>\n",
       "      <th>ddof2</th>\n",
       "      <th>MS</th>\n",
       "      <th>F</th>\n",
       "      <th>p-unc</th>\n",
       "      <th>p-GG-corr</th>\n",
       "      <th>np2</th>\n",
       "      <th>eps</th>\n",
       "    </tr>\n",
       "  </thead>\n",
       "  <tbody>\n",
       "    <tr>\n",
       "      <th>0</th>\n",
       "      <td>roi</td>\n",
       "      <td>0.847</td>\n",
       "      <td>1</td>\n",
       "      <td>23</td>\n",
       "      <td>0.847</td>\n",
       "      <td>67.664</td>\n",
       "      <td>0.000</td>\n",
       "      <td>0.000</td>\n",
       "      <td>0.746</td>\n",
       "      <td>1.0</td>\n",
       "    </tr>\n",
       "    <tr>\n",
       "      <th>1</th>\n",
       "      <td>con</td>\n",
       "      <td>0.005</td>\n",
       "      <td>1</td>\n",
       "      <td>23</td>\n",
       "      <td>0.005</td>\n",
       "      <td>12.181</td>\n",
       "      <td>0.002</td>\n",
       "      <td>0.002</td>\n",
       "      <td>0.346</td>\n",
       "      <td>1.0</td>\n",
       "    </tr>\n",
       "    <tr>\n",
       "      <th>2</th>\n",
       "      <td>roi * con</td>\n",
       "      <td>0.001</td>\n",
       "      <td>1</td>\n",
       "      <td>23</td>\n",
       "      <td>0.001</td>\n",
       "      <td>3.134</td>\n",
       "      <td>0.090</td>\n",
       "      <td>0.090</td>\n",
       "      <td>0.120</td>\n",
       "      <td>1.0</td>\n",
       "    </tr>\n",
       "  </tbody>\n",
       "</table>\n",
       "</div>"
      ],
      "text/plain": [
       "      Source     SS  ddof1  ddof2     MS       F  p-unc  p-GG-corr    np2  eps\n",
       "0        roi  0.847      1     23  0.847  67.664  0.000      0.000  0.746  1.0\n",
       "1        con  0.005      1     23  0.005  12.181  0.002      0.002  0.346  1.0\n",
       "2  roi * con  0.001      1     23  0.001   3.134  0.090      0.090  0.120  1.0"
      ]
     },
     "execution_count": 38,
     "metadata": {},
     "output_type": "execute_result"
    }
   ],
   "source": [
    "aov = pg.rm_anova(dv='mean', within=['roi','con'],\n",
    "                   subject='sn', data=Zr_long.Zr.reset_index(), detailed=True)\n",
    "aov.round(3)"
   ]
  },
  {
   "cell_type": "code",
   "execution_count": 39,
   "id": "a63ab687",
   "metadata": {
    "ExecuteTime": {
     "end_time": "2021-11-28T05:29:09.797477Z",
     "start_time": "2021-11-28T05:29:09.517006Z"
    }
   },
   "outputs": [
    {
     "data": {
      "image/png": "[encoded data removed]",
      "text/plain": [
       "<Figure size 864x288 with 2 Axes>"
      ]
     },
     "metadata": {},
     "output_type": "display_data"
    }
   ],
   "source": [
    "fig, axes = plt.subplots(ncols=2, figsize=(12, 4))\n",
    "sns.pointplot(x=\"roi\", y=\"mean\", hue=\"con\",\n",
    "                    data=Zr_long.Zr.reset_index(), ax=axes[0])\n",
    "sns.pointplot(x=\"con\", y=\"mean\", hue=\"roi\",\n",
    "                    data=Zr_long.Zr.reset_index(), ax=axes[1])\n",
    "plt.tight_layout()\n",
    "plt.show()"
   ]
  },
  {
   "cell_type": "code",
   "execution_count": 86,
   "id": "34bc4972",
   "metadata": {
    "ExecuteTime": {
     "end_time": "2021-11-28T05:52:21.264544Z",
     "start_time": "2021-11-28T05:52:21.184414Z"
    }
   },
   "outputs": [
    {
     "data": {
      "text/html": [
       "<div>\n",
       "<style scoped>\n",
       "    .dataframe tbody tr th:only-of-type {\n",
       "        vertical-align: middle;\n",
       "    }\n",
       "\n",
       "    .dataframe tbody tr th {\n",
       "        vertical-align: top;\n",
       "    }\n",
       "\n",
       "    .dataframe thead th {\n",
       "        text-align: right;\n",
       "    }\n",
       "</style>\n",
       "<table border=\"1\" class=\"dataframe\">\n",
       "  <thead>\n",
       "    <tr style=\"text-align: right;\">\n",
       "      <th></th>\n",
       "      <th>Contrast</th>\n",
       "      <th>A</th>\n",
       "      <th>B</th>\n",
       "      <th>mean(A)</th>\n",
       "      <th>std(A)</th>\n",
       "      <th>mean(B)</th>\n",
       "      <th>std(B)</th>\n",
       "      <th>Paired</th>\n",
       "      <th>Parametric</th>\n",
       "      <th>T</th>\n",
       "      <th>dof</th>\n",
       "      <th>alternative</th>\n",
       "      <th>p-unc</th>\n",
       "      <th>BF10</th>\n",
       "      <th>cohen</th>\n",
       "      <th>roi</th>\n",
       "    </tr>\n",
       "  </thead>\n",
       "  <tbody>\n",
       "    <tr>\n",
       "      <th>0</th>\n",
       "      <td>con</td>\n",
       "      <td>cons</td>\n",
       "      <td>imm</td>\n",
       "      <td>0.296</td>\n",
       "      <td>0.136</td>\n",
       "      <td>0.277</td>\n",
       "      <td>0.128</td>\n",
       "      <td>True</td>\n",
       "      <td>True</td>\n",
       "      <td>3.227</td>\n",
       "      <td>23.0</td>\n",
       "      <td>two-sided</td>\n",
       "      <td>0.004</td>\n",
       "      <td>11.202</td>\n",
       "      <td>0.146</td>\n",
       "      <td>loc</td>\n",
       "    </tr>\n",
       "    <tr>\n",
       "      <th>0</th>\n",
       "      <td>con</td>\n",
       "      <td>cons</td>\n",
       "      <td>imm</td>\n",
       "      <td>0.104</td>\n",
       "      <td>0.068</td>\n",
       "      <td>0.094</td>\n",
       "      <td>0.059</td>\n",
       "      <td>True</td>\n",
       "      <td>True</td>\n",
       "      <td>2.754</td>\n",
       "      <td>23.0</td>\n",
       "      <td>two-sided</td>\n",
       "      <td>0.011</td>\n",
       "      <td>4.367</td>\n",
       "      <td>0.158</td>\n",
       "      <td>pf</td>\n",
       "    </tr>\n",
       "  </tbody>\n",
       "</table>\n",
       "</div>"
      ],
      "text/plain": [
       "  Contrast     A    B  mean(A)  std(A)  mean(B)  std(B)  Paired  Parametric  \\\n",
       "0      con  cons  imm    0.296   0.136    0.277   0.128    True        True   \n",
       "0      con  cons  imm    0.104   0.068    0.094   0.059    True        True   \n",
       "\n",
       "       T   dof alternative  p-unc    BF10  cohen  roi  \n",
       "0  3.227  23.0   two-sided  0.004  11.202  0.146  loc  \n",
       "0  2.754  23.0   two-sided  0.011   4.367  0.158   pf  "
      ]
     },
     "execution_count": 86,
     "metadata": {},
     "output_type": "execute_result"
    }
   ],
   "source": [
    "targ_df = Zr_long.Zr.reset_index()\n",
    "loc_Zr = (targ_df[targ_df['roi']=='loc']\n",
    "          .pairwise_ttests(dv='mean', within='con', subject='sn', \n",
    "                           parametric=True, padjust='bonf', effsize = 'cohen',\n",
    "                           return_desc=True)\n",
    "          .round(3))\n",
    "loc_Zr['roi'] = 'loc'\n",
    "pf_Zr = (targ_df[targ_df['roi']=='pf']\n",
    "          .pairwise_ttests(dv='mean', within='con', subject='sn', \n",
    "                           parametric=True, padjust='bonf', effsize = 'cohen',\n",
    "                           return_desc=True)\n",
    "          .round(3))\n",
    "pf_Zr['roi'] = 'pf'\n",
    "pd.concat([loc_Zr, pf_Zr], axis=0)"
   ]
  },
  {
   "cell_type": "markdown",
   "id": "392752ef",
   "metadata": {},
   "source": [
    "## Statistical Test - Correlation & Partial Corr"
   ]
  },
  {
   "cell_type": "code",
   "execution_count": 41,
   "id": "8e2073eb",
   "metadata": {
    "ExecuteTime": {
     "end_time": "2021-11-28T05:29:09.853809Z",
     "start_time": "2021-11-28T05:29:09.842068Z"
    }
   },
   "outputs": [],
   "source": [
    "targ_df1 = Z_long.Z.reset_index()\n",
    "z_df = (targ_df1\n",
    "        .filter(['sn','roi','con','mean'])\n",
    "        .rename(columns={'mean':'z'}))\n",
    "\n",
    "targ_df2 = beta_long.beta.reset_index()\n",
    "beta_df = (targ_df2\n",
    "        .filter(['sn','roi','con','mean'])\n",
    "        .rename(columns={'mean':'beta'}))\n",
    "\n",
    "targ_df3 = Zr_long.Zr.reset_index()\n",
    "Zr_df = (targ_df3\n",
    "        .filter(['sn','roi','con','mean'])\n",
    "        .rename(columns={'mean':'Zr'}))\n",
    "\n",
    "df_fnl = pd.merge(z_df, beta_df, how='inner', on=['sn','roi','con'])\n",
    "df_fnl = pd.merge(df_fnl, Zr_df, how='inner', on=['sn','roi','con'])"
   ]
  },
  {
   "cell_type": "code",
   "execution_count": 43,
   "id": "5d0e32a0",
   "metadata": {
    "ExecuteTime": {
     "end_time": "2021-11-28T05:29:09.866303Z",
     "start_time": "2021-11-28T05:29:09.862566Z"
    }
   },
   "outputs": [],
   "source": [
    "df_cons = df_fnl[(df_fnl['con'] == 'cons') & (df_fnl['roi']=='loc')]\n",
    "df_imm = df_fnl[(df_fnl['con'] == 'imm')  & (df_fnl['roi']=='loc')]"
   ]
  },
  {
   "cell_type": "code",
   "execution_count": 51,
   "id": "af927d94",
   "metadata": {
    "ExecuteTime": {
     "end_time": "2021-11-28T05:33:14.693539Z",
     "start_time": "2021-11-28T05:33:14.684282Z"
    }
   },
   "outputs": [],
   "source": [
    "df_dff = pd.merge(df_cons, df_imm, how='inner', on=['sn','roi'])"
   ]
  },
  {
   "cell_type": "code",
   "execution_count": 55,
   "id": "ba013df3",
   "metadata": {
    "ExecuteTime": {
     "end_time": "2021-11-28T05:35:41.675566Z",
     "start_time": "2021-11-28T05:35:41.662484Z"
    }
   },
   "outputs": [],
   "source": [
    "df_dff = (df_dff\n",
    "         .assign(z = lambda x: x.z_x-x.z_y,\n",
    "                beta = lambda x: x.beta_x-x.beta_y,\n",
    "                Zr = lambda x: x.Zr_x-x.Zr_y)\n",
    "         .filter(['sn','roi','z','beta','Zr']))"
   ]
  },
  {
   "cell_type": "code",
   "execution_count": 95,
   "id": "5583de6b",
   "metadata": {
    "ExecuteTime": {
     "end_time": "2021-11-28T06:00:29.300642Z",
     "start_time": "2021-11-28T06:00:29.282147Z"
    }
   },
   "outputs": [
    {
     "data": {
      "text/html": [
       "<div>\n",
       "<style scoped>\n",
       "    .dataframe tbody tr th:only-of-type {\n",
       "        vertical-align: middle;\n",
       "    }\n",
       "\n",
       "    .dataframe tbody tr th {\n",
       "        vertical-align: top;\n",
       "    }\n",
       "\n",
       "    .dataframe thead th {\n",
       "        text-align: right;\n",
       "    }\n",
       "</style>\n",
       "<table border=\"1\" class=\"dataframe\">\n",
       "  <thead>\n",
       "    <tr style=\"text-align: right;\">\n",
       "      <th></th>\n",
       "      <th>sn</th>\n",
       "      <th>roi</th>\n",
       "      <th>z</th>\n",
       "      <th>beta</th>\n",
       "      <th>Zr</th>\n",
       "    </tr>\n",
       "  </thead>\n",
       "  <tbody>\n",
       "    <tr>\n",
       "      <th>0</th>\n",
       "      <td>1</td>\n",
       "      <td>loc</td>\n",
       "      <td>0.190268</td>\n",
       "      <td>0.106183</td>\n",
       "      <td>0.062394</td>\n",
       "    </tr>\n",
       "    <tr>\n",
       "      <th>1</th>\n",
       "      <td>10</td>\n",
       "      <td>loc</td>\n",
       "      <td>-0.004985</td>\n",
       "      <td>-0.010664</td>\n",
       "      <td>0.015628</td>\n",
       "    </tr>\n",
       "    <tr>\n",
       "      <th>2</th>\n",
       "      <td>11</td>\n",
       "      <td>loc</td>\n",
       "      <td>0.136077</td>\n",
       "      <td>0.005941</td>\n",
       "      <td>0.029292</td>\n",
       "    </tr>\n",
       "    <tr>\n",
       "      <th>3</th>\n",
       "      <td>12</td>\n",
       "      <td>loc</td>\n",
       "      <td>0.079221</td>\n",
       "      <td>-0.001217</td>\n",
       "      <td>0.020856</td>\n",
       "    </tr>\n",
       "    <tr>\n",
       "      <th>4</th>\n",
       "      <td>13</td>\n",
       "      <td>loc</td>\n",
       "      <td>-0.035033</td>\n",
       "      <td>0.043352</td>\n",
       "      <td>0.050008</td>\n",
       "    </tr>\n",
       "  </tbody>\n",
       "</table>\n",
       "</div>"
      ],
      "text/plain": [
       "   sn  roi         z      beta        Zr\n",
       "0   1  loc  0.190268  0.106183  0.062394\n",
       "1  10  loc -0.004985 -0.010664  0.015628\n",
       "2  11  loc  0.136077  0.005941  0.029292\n",
       "3  12  loc  0.079221 -0.001217  0.020856\n",
       "4  13  loc -0.035033  0.043352  0.050008"
      ]
     },
     "execution_count": 95,
     "metadata": {},
     "output_type": "execute_result"
    }
   ],
   "source": [
    "df_dff.head()"
   ]
  },
  {
   "cell_type": "markdown",
   "id": "417de3ee",
   "metadata": {},
   "source": [
    "* Assumption Check"
   ]
  },
  {
   "cell_type": "code",
   "execution_count": 122,
   "id": "287ae253",
   "metadata": {
    "ExecuteTime": {
     "end_time": "2021-11-28T06:11:22.444577Z",
     "start_time": "2021-11-28T06:11:22.435578Z"
    }
   },
   "outputs": [
    {
     "data": {
      "text/plain": [
       "HZResults(hz=0.7703488985936779, pval=0.10968901247185164, normal=True)"
      ]
     },
     "execution_count": 122,
     "metadata": {},
     "output_type": "execute_result"
    }
   ],
   "source": [
    "pg.multivariate_normality(df_dff[['z', 'beta', 'Zr']])"
   ]
  },
  {
   "cell_type": "markdown",
   "id": "012be6da",
   "metadata": {},
   "source": [
    "### Activation & Beta"
   ]
  },
  {
   "cell_type": "code",
   "execution_count": 123,
   "id": "56c7daa0",
   "metadata": {
    "ExecuteTime": {
     "end_time": "2021-11-28T06:12:23.005763Z",
     "start_time": "2021-11-28T06:12:22.704115Z"
    }
   },
   "outputs": [
    {
     "data": {
      "text/plain": [
       "<seaborn.axisgrid.JointGrid at 0x7f9dae8ff8e0>"
      ]
     },
     "execution_count": 123,
     "metadata": {},
     "output_type": "execute_result"
    },
    {
     "data": {
      "image/png": "[encoded data removed]",
      "text/plain": [
       "<Figure size 432x432 with 3 Axes>"
      ]
     },
     "metadata": {},
     "output_type": "display_data"
    }
   ],
   "source": [
    "sns.jointplot(data=df_dff, x='z', y='beta', kind='reg')"
   ]
  },
  {
   "cell_type": "markdown",
   "id": "274101b6",
   "metadata": {},
   "source": [
    "* Pearson Correlation"
   ]
  },
  {
   "cell_type": "code",
   "execution_count": 89,
   "id": "a92ccc12",
   "metadata": {
    "ExecuteTime": {
     "end_time": "2021-11-28T05:57:54.612128Z",
     "start_time": "2021-11-28T05:57:54.589412Z"
    }
   },
   "outputs": [
    {
     "data": {
      "text/html": [
       "<div>\n",
       "<style scoped>\n",
       "    .dataframe tbody tr th:only-of-type {\n",
       "        vertical-align: middle;\n",
       "    }\n",
       "\n",
       "    .dataframe tbody tr th {\n",
       "        vertical-align: top;\n",
       "    }\n",
       "\n",
       "    .dataframe thead th {\n",
       "        text-align: right;\n",
       "    }\n",
       "</style>\n",
       "<table border=\"1\" class=\"dataframe\">\n",
       "  <thead>\n",
       "    <tr style=\"text-align: right;\">\n",
       "      <th></th>\n",
       "      <th>n</th>\n",
       "      <th>r</th>\n",
       "      <th>CI95%</th>\n",
       "      <th>p-val</th>\n",
       "      <th>BF10</th>\n",
       "      <th>power</th>\n",
       "    </tr>\n",
       "  </thead>\n",
       "  <tbody>\n",
       "    <tr>\n",
       "      <th>pearson</th>\n",
       "      <td>24</td>\n",
       "      <td>0.448832</td>\n",
       "      <td>[0.06, 0.72]</td>\n",
       "      <td>0.027807</td>\n",
       "      <td>2.489</td>\n",
       "      <td>0.615555</td>\n",
       "    </tr>\n",
       "  </tbody>\n",
       "</table>\n",
       "</div>"
      ],
      "text/plain": [
       "          n         r         CI95%     p-val   BF10     power\n",
       "pearson  24  0.448832  [0.06, 0.72]  0.027807  2.489  0.615555"
      ]
     },
     "execution_count": 89,
     "metadata": {},
     "output_type": "execute_result"
    }
   ],
   "source": [
    "pg.corr(df_dff.z, df_dff.beta,\n",
    "        alternative=\"two-sided\",\n",
    "        method=\"pearson\") # pearson, spearman, kendall, bicor, percbend, shepherd, skipped"
   ]
  },
  {
   "cell_type": "code",
   "execution_count": 68,
   "id": "67d86572",
   "metadata": {
    "ExecuteTime": {
     "end_time": "2021-11-28T05:44:30.776816Z",
     "start_time": "2021-11-28T05:44:30.535973Z"
    }
   },
   "outputs": [
    {
     "data": {
      "image/png": "[encoded data removed]",
      "text/plain": [
       "<Figure size 360x360 with 1 Axes>"
      ]
     },
     "metadata": {},
     "output_type": "display_data"
    }
   ],
   "source": [
    "g = sns.lmplot(x=\"z\", y=\"beta\",\n",
    "           col=\"roi\", data=df_dff);\n",
    "g = (g.set_axis_labels(\"z (cons-imm)\", \"beta (cons-imm)\")\n",
    "      #.set(xlim=(0, 60), ylim=(0, 12),\n",
    "      #     xticks=[10, 30, 50], yticks=[2, 6, 10])\n",
    "      .fig.subplots_adjust(wspace=.02))"
   ]
  },
  {
   "cell_type": "markdown",
   "id": "9aa4b716",
   "metadata": {},
   "source": [
    "* Patial Correlation"
   ]
  },
  {
   "cell_type": "code",
   "execution_count": 91,
   "id": "ccecbad4",
   "metadata": {
    "ExecuteTime": {
     "end_time": "2021-11-28T05:59:02.523609Z",
     "start_time": "2021-11-28T05:59:02.499913Z"
    }
   },
   "outputs": [
    {
     "data": {
      "text/html": [
       "<div>\n",
       "<style scoped>\n",
       "    .dataframe tbody tr th:only-of-type {\n",
       "        vertical-align: middle;\n",
       "    }\n",
       "\n",
       "    .dataframe tbody tr th {\n",
       "        vertical-align: top;\n",
       "    }\n",
       "\n",
       "    .dataframe thead th {\n",
       "        text-align: right;\n",
       "    }\n",
       "</style>\n",
       "<table border=\"1\" class=\"dataframe\">\n",
       "  <thead>\n",
       "    <tr style=\"text-align: right;\">\n",
       "      <th></th>\n",
       "      <th>n</th>\n",
       "      <th>r</th>\n",
       "      <th>CI95%</th>\n",
       "      <th>p-val</th>\n",
       "    </tr>\n",
       "  </thead>\n",
       "  <tbody>\n",
       "    <tr>\n",
       "      <th>pearson</th>\n",
       "      <td>24</td>\n",
       "      <td>0.283</td>\n",
       "      <td>[-0.15, 0.62]</td>\n",
       "      <td>0.191</td>\n",
       "    </tr>\n",
       "  </tbody>\n",
       "</table>\n",
       "</div>"
      ],
      "text/plain": [
       "          n      r          CI95%  p-val\n",
       "pearson  24  0.283  [-0.15, 0.62]  0.191"
      ]
     },
     "execution_count": 91,
     "metadata": {},
     "output_type": "execute_result"
    }
   ],
   "source": [
    "pg.partial_corr(data=df_dff, x='z', y='beta', covar='Zr',\n",
    "               alternative='two-sided', method='pearson').round(3)"
   ]
  },
  {
   "cell_type": "code",
   "execution_count": null,
   "id": "bb73c54e",
   "metadata": {},
   "outputs": [],
   "source": []
  },
  {
   "cell_type": "code",
   "execution_count": 84,
   "id": "1c5d8b5f",
   "metadata": {
    "ExecuteTime": {
     "end_time": "2021-11-28T05:50:04.045217Z",
     "start_time": "2021-11-28T05:50:03.446887Z"
    }
   },
   "outputs": [
    {
     "data": {
      "image/png": "[encoded data removed]",
      "text/plain": [
       "<Figure size 806.25x360 with 2 Axes>"
      ]
     },
     "metadata": {},
     "output_type": "display_data"
    }
   ],
   "source": [
    "sns.lmplot(x=\"z\", y=\"beta\", hue=\"con\",\n",
    "           col=\"roi\", data=df_fnl);"
   ]
  },
  {
   "cell_type": "markdown",
   "id": "c8e6e2d9",
   "metadata": {},
   "source": [
    "### Activation & Zr"
   ]
  },
  {
   "cell_type": "code",
   "execution_count": 124,
   "id": "268a75a6",
   "metadata": {
    "ExecuteTime": {
     "end_time": "2021-11-28T06:12:38.321460Z",
     "start_time": "2021-11-28T06:12:38.023078Z"
    }
   },
   "outputs": [
    {
     "data": {
      "text/plain": [
       "<seaborn.axisgrid.JointGrid at 0x7f9dadfcf550>"
      ]
     },
     "execution_count": 124,
     "metadata": {},
     "output_type": "execute_result"
    },
    {
     "data": {
      "image/png": "[encoded data removed]",
      "text/plain": [
       "<Figure size 432x432 with 3 Axes>"
      ]
     },
     "metadata": {},
     "output_type": "display_data"
    }
   ],
   "source": [
    "sns.jointplot(data=df_dff, x='z', y='Zr', kind='reg')"
   ]
  },
  {
   "cell_type": "markdown",
   "id": "d29e2579",
   "metadata": {},
   "source": [
    "* Robust correlation (skipped method)"
   ]
  },
  {
   "cell_type": "code",
   "execution_count": 74,
   "id": "5675eaff",
   "metadata": {
    "ExecuteTime": {
     "end_time": "2021-11-28T05:45:46.024202Z",
     "start_time": "2021-11-28T05:45:45.972105Z"
    }
   },
   "outputs": [
    {
     "data": {
      "text/html": [
       "<div>\n",
       "<style scoped>\n",
       "    .dataframe tbody tr th:only-of-type {\n",
       "        vertical-align: middle;\n",
       "    }\n",
       "\n",
       "    .dataframe tbody tr th {\n",
       "        vertical-align: top;\n",
       "    }\n",
       "\n",
       "    .dataframe thead th {\n",
       "        text-align: right;\n",
       "    }\n",
       "</style>\n",
       "<table border=\"1\" class=\"dataframe\">\n",
       "  <thead>\n",
       "    <tr style=\"text-align: right;\">\n",
       "      <th></th>\n",
       "      <th>n</th>\n",
       "      <th>outliers</th>\n",
       "      <th>r</th>\n",
       "      <th>CI95%</th>\n",
       "      <th>p-val</th>\n",
       "      <th>power</th>\n",
       "    </tr>\n",
       "  </thead>\n",
       "  <tbody>\n",
       "    <tr>\n",
       "      <th>skipped</th>\n",
       "      <td>24</td>\n",
       "      <td>1</td>\n",
       "      <td>0.307312</td>\n",
       "      <td>[-0.12, 0.64]</td>\n",
       "      <td>0.153748</td>\n",
       "      <td>0.303899</td>\n",
       "    </tr>\n",
       "  </tbody>\n",
       "</table>\n",
       "</div>"
      ],
      "text/plain": [
       "          n  outliers         r          CI95%     p-val     power\n",
       "skipped  24         1  0.307312  [-0.12, 0.64]  0.153748  0.303899"
      ]
     },
     "execution_count": 74,
     "metadata": {},
     "output_type": "execute_result"
    }
   ],
   "source": [
    "pg.corr(df_dff.z, df_dff.Zr,\n",
    "        alternative=\"two-sided\",\n",
    "        method=\"skipped\") # pearson, spearman, kendall, bicor, percbend, shepherd, skipped"
   ]
  },
  {
   "cell_type": "code",
   "execution_count": 75,
   "id": "4fec1379",
   "metadata": {
    "ExecuteTime": {
     "end_time": "2021-11-28T05:46:01.732081Z",
     "start_time": "2021-11-28T05:46:01.493925Z"
    }
   },
   "outputs": [
    {
     "data": {
      "image/png": "[encoded data removed]",
      "text/plain": [
       "<Figure size 360x360 with 1 Axes>"
      ]
     },
     "metadata": {},
     "output_type": "display_data"
    }
   ],
   "source": [
    "g = sns.lmplot(x=\"z\", y=\"Zr\",\n",
    "           col=\"roi\", data=df_dff);\n",
    "g = (g.set_axis_labels(\"z (cons-imm)\", \"Zr (cons-imm)\")\n",
    "      #.set(xlim=(0, 60), ylim=(0, 12),\n",
    "      #     xticks=[10, 30, 50], yticks=[2, 6, 10])\n",
    "      .fig.subplots_adjust(wspace=.02))"
   ]
  },
  {
   "cell_type": "markdown",
   "id": "9dced7e6",
   "metadata": {},
   "source": [
    "* Patial Correlation"
   ]
  },
  {
   "cell_type": "code",
   "execution_count": 94,
   "id": "821b97e9",
   "metadata": {
    "ExecuteTime": {
     "end_time": "2021-11-28T05:59:58.807598Z",
     "start_time": "2021-11-28T05:59:58.780833Z"
    }
   },
   "outputs": [
    {
     "data": {
      "text/html": [
       "<div>\n",
       "<style scoped>\n",
       "    .dataframe tbody tr th:only-of-type {\n",
       "        vertical-align: middle;\n",
       "    }\n",
       "\n",
       "    .dataframe tbody tr th {\n",
       "        vertical-align: top;\n",
       "    }\n",
       "\n",
       "    .dataframe thead th {\n",
       "        text-align: right;\n",
       "    }\n",
       "</style>\n",
       "<table border=\"1\" class=\"dataframe\">\n",
       "  <thead>\n",
       "    <tr style=\"text-align: right;\">\n",
       "      <th></th>\n",
       "      <th>n</th>\n",
       "      <th>r</th>\n",
       "      <th>CI95%</th>\n",
       "      <th>p-val</th>\n",
       "    </tr>\n",
       "  </thead>\n",
       "  <tbody>\n",
       "    <tr>\n",
       "      <th>pearson</th>\n",
       "      <td>24</td>\n",
       "      <td>0.105</td>\n",
       "      <td>[-0.32, 0.5]</td>\n",
       "      <td>0.632</td>\n",
       "    </tr>\n",
       "  </tbody>\n",
       "</table>\n",
       "</div>"
      ],
      "text/plain": [
       "          n      r         CI95%  p-val\n",
       "pearson  24  0.105  [-0.32, 0.5]  0.632"
      ]
     },
     "execution_count": 94,
     "metadata": {},
     "output_type": "execute_result"
    }
   ],
   "source": [
    "pg.partial_corr(data=df_dff, x='z', y='Zr', covar='beta',\n",
    "               alternative='two-sided', method='pearson').round(3)"
   ]
  },
  {
   "cell_type": "code",
   "execution_count": 83,
   "id": "9cf014e3",
   "metadata": {
    "ExecuteTime": {
     "end_time": "2021-11-28T05:50:00.720140Z",
     "start_time": "2021-11-28T05:50:00.115299Z"
    }
   },
   "outputs": [
    {
     "data": {
      "image/png": "[encoded data removed]",
      "text/plain": [
       "<Figure size 806.25x360 with 2 Axes>"
      ]
     },
     "metadata": {},
     "output_type": "display_data"
    }
   ],
   "source": [
    "sns.lmplot(x=\"z\", y=\"Zr\", hue=\"con\",\n",
    "           col=\"roi\", data=df_fnl);"
   ]
  },
  {
   "cell_type": "markdown",
   "id": "ea7ec251",
   "metadata": {},
   "source": [
    "### Beta & Zr"
   ]
  },
  {
   "cell_type": "code",
   "execution_count": 125,
   "id": "7c1f1eb9",
   "metadata": {
    "ExecuteTime": {
     "end_time": "2021-11-28T06:12:52.159307Z",
     "start_time": "2021-11-28T06:12:51.865573Z"
    }
   },
   "outputs": [
    {
     "data": {
      "text/plain": [
       "<seaborn.axisgrid.JointGrid at 0x7f9d88ca11c0>"
      ]
     },
     "execution_count": 125,
     "metadata": {},
     "output_type": "execute_result"
    },
    {
     "data": {
      "image/png": "[encoded data removed]",
      "text/plain": [
       "<Figure size 432x432 with 3 Axes>"
      ]
     },
     "metadata": {},
     "output_type": "display_data"
    }
   ],
   "source": [
    "sns.jointplot(data=df_dff, x='beta', y='Zr', kind='reg')"
   ]
  },
  {
   "cell_type": "markdown",
   "id": "8f8b0af8",
   "metadata": {},
   "source": [
    "* Spearman Correlation"
   ]
  },
  {
   "cell_type": "code",
   "execution_count": 81,
   "id": "91eaeb12",
   "metadata": {
    "ExecuteTime": {
     "end_time": "2021-11-28T05:48:31.355480Z",
     "start_time": "2021-11-28T05:48:31.335004Z"
    }
   },
   "outputs": [
    {
     "data": {
      "text/html": [
       "<div>\n",
       "<style scoped>\n",
       "    .dataframe tbody tr th:only-of-type {\n",
       "        vertical-align: middle;\n",
       "    }\n",
       "\n",
       "    .dataframe tbody tr th {\n",
       "        vertical-align: top;\n",
       "    }\n",
       "\n",
       "    .dataframe thead th {\n",
       "        text-align: right;\n",
       "    }\n",
       "</style>\n",
       "<table border=\"1\" class=\"dataframe\">\n",
       "  <thead>\n",
       "    <tr style=\"text-align: right;\">\n",
       "      <th></th>\n",
       "      <th>n</th>\n",
       "      <th>r</th>\n",
       "      <th>CI95%</th>\n",
       "      <th>p-val</th>\n",
       "      <th>power</th>\n",
       "    </tr>\n",
       "  </thead>\n",
       "  <tbody>\n",
       "    <tr>\n",
       "      <th>spearman</th>\n",
       "      <td>24</td>\n",
       "      <td>0.381739</td>\n",
       "      <td>[-0.03, 0.68]</td>\n",
       "      <td>0.065663</td>\n",
       "      <td>0.466299</td>\n",
       "    </tr>\n",
       "  </tbody>\n",
       "</table>\n",
       "</div>"
      ],
      "text/plain": [
       "           n         r          CI95%     p-val     power\n",
       "spearman  24  0.381739  [-0.03, 0.68]  0.065663  0.466299"
      ]
     },
     "execution_count": 81,
     "metadata": {},
     "output_type": "execute_result"
    }
   ],
   "source": [
    "pg.corr(df_dff.beta, df_dff.Zr,\n",
    "        alternative=\"two-sided\",\n",
    "        method=\"spearman\") # pearson, spearman, kendall, bicor, percbend, shepherd, skipped"
   ]
  },
  {
   "cell_type": "code",
   "execution_count": 76,
   "id": "f4c0e5a2",
   "metadata": {
    "ExecuteTime": {
     "end_time": "2021-11-28T05:47:04.153276Z",
     "start_time": "2021-11-28T05:47:03.924060Z"
    }
   },
   "outputs": [
    {
     "data": {
      "image/png": "[encoded data removed]",
      "text/plain": [
       "<Figure size 360x360 with 1 Axes>"
      ]
     },
     "metadata": {},
     "output_type": "display_data"
    }
   ],
   "source": [
    "g = sns.lmplot(x=\"beta\", y=\"Zr\",\n",
    "           col=\"roi\", data=df_dff);\n",
    "g = (g.set_axis_labels(\"beta (cons-imm)\", \"Zr (cons-imm)\")\n",
    "      #.set(xlim=(0, 60), ylim=(0, 12),\n",
    "      #     xticks=[10, 30, 50], yticks=[2, 6, 10])\n",
    "      .fig.subplots_adjust(wspace=.02))"
   ]
  },
  {
   "cell_type": "markdown",
   "id": "f73712b8",
   "metadata": {},
   "source": [
    "* Patial Correlation"
   ]
  },
  {
   "cell_type": "code",
   "execution_count": 93,
   "id": "db9f4f4b",
   "metadata": {
    "ExecuteTime": {
     "end_time": "2021-11-28T05:59:43.726045Z",
     "start_time": "2021-11-28T05:59:43.700179Z"
    }
   },
   "outputs": [
    {
     "data": {
      "text/html": [
       "<div>\n",
       "<style scoped>\n",
       "    .dataframe tbody tr th:only-of-type {\n",
       "        vertical-align: middle;\n",
       "    }\n",
       "\n",
       "    .dataframe tbody tr th {\n",
       "        vertical-align: top;\n",
       "    }\n",
       "\n",
       "    .dataframe thead th {\n",
       "        text-align: right;\n",
       "    }\n",
       "</style>\n",
       "<table border=\"1\" class=\"dataframe\">\n",
       "  <thead>\n",
       "    <tr style=\"text-align: right;\">\n",
       "      <th></th>\n",
       "      <th>n</th>\n",
       "      <th>r</th>\n",
       "      <th>CI95%</th>\n",
       "      <th>p-val</th>\n",
       "    </tr>\n",
       "  </thead>\n",
       "  <tbody>\n",
       "    <tr>\n",
       "      <th>pearson</th>\n",
       "      <td>24</td>\n",
       "      <td>0.624</td>\n",
       "      <td>[0.28, 0.82]</td>\n",
       "      <td>0.001</td>\n",
       "    </tr>\n",
       "  </tbody>\n",
       "</table>\n",
       "</div>"
      ],
      "text/plain": [
       "          n      r         CI95%  p-val\n",
       "pearson  24  0.624  [0.28, 0.82]  0.001"
      ]
     },
     "execution_count": 93,
     "metadata": {},
     "output_type": "execute_result"
    }
   ],
   "source": [
    "pg.partial_corr(data=df_dff, x='beta', y='Zr', covar='z',\n",
    "               alternative='two-sided', method='pearson').round(3)"
   ]
  },
  {
   "cell_type": "code",
   "execution_count": 85,
   "id": "0e9400ff",
   "metadata": {
    "ExecuteTime": {
     "end_time": "2021-11-28T05:50:22.711239Z",
     "start_time": "2021-11-28T05:50:22.082251Z"
    }
   },
   "outputs": [
    {
     "data": {
      "image/png": "[encoded data removed]",
      "text/plain": [
       "<Figure size 806.25x360 with 2 Axes>"
      ]
     },
     "metadata": {},
     "output_type": "display_data"
    }
   ],
   "source": [
    "sns.lmplot(x=\"beta\", y=\"Zr\", hue=\"con\",\n",
    "           col=\"roi\", data=df_fnl);"
   ]
  },
  {
   "cell_type": "markdown",
   "id": "88d8d27f",
   "metadata": {},
   "source": [
    "## Statistical Test - Regression & Mediation Analysis"
   ]
  },
  {
   "cell_type": "code",
   "execution_count": 170,
   "id": "8865b9c6",
   "metadata": {
    "ExecuteTime": {
     "end_time": "2021-11-28T06:29:06.813218Z",
     "start_time": "2021-11-28T06:29:06.798147Z"
    }
   },
   "outputs": [
    {
     "data": {
      "text/html": [
       "<div>\n",
       "<style scoped>\n",
       "    .dataframe tbody tr th:only-of-type {\n",
       "        vertical-align: middle;\n",
       "    }\n",
       "\n",
       "    .dataframe tbody tr th {\n",
       "        vertical-align: top;\n",
       "    }\n",
       "\n",
       "    .dataframe thead th {\n",
       "        text-align: right;\n",
       "    }\n",
       "</style>\n",
       "<table border=\"1\" class=\"dataframe\">\n",
       "  <thead>\n",
       "    <tr style=\"text-align: right;\">\n",
       "      <th></th>\n",
       "      <th>sn</th>\n",
       "      <th>roi</th>\n",
       "      <th>con</th>\n",
       "      <th>z</th>\n",
       "      <th>beta</th>\n",
       "      <th>Zr</th>\n",
       "    </tr>\n",
       "  </thead>\n",
       "  <tbody>\n",
       "    <tr>\n",
       "      <th>0</th>\n",
       "      <td>1</td>\n",
       "      <td>loc</td>\n",
       "      <td>cons</td>\n",
       "      <td>1.085557</td>\n",
       "      <td>0.394441</td>\n",
       "      <td>0.441953</td>\n",
       "    </tr>\n",
       "    <tr>\n",
       "      <th>1</th>\n",
       "      <td>1</td>\n",
       "      <td>loc</td>\n",
       "      <td>imm</td>\n",
       "      <td>0.895288</td>\n",
       "      <td>0.288257</td>\n",
       "      <td>0.379559</td>\n",
       "    </tr>\n",
       "    <tr>\n",
       "      <th>2</th>\n",
       "      <td>1</td>\n",
       "      <td>pf</td>\n",
       "      <td>cons</td>\n",
       "      <td>0.406269</td>\n",
       "      <td>0.079983</td>\n",
       "      <td>0.122856</td>\n",
       "    </tr>\n",
       "    <tr>\n",
       "      <th>3</th>\n",
       "      <td>1</td>\n",
       "      <td>pf</td>\n",
       "      <td>imm</td>\n",
       "      <td>0.324837</td>\n",
       "      <td>0.074869</td>\n",
       "      <td>0.105637</td>\n",
       "    </tr>\n",
       "    <tr>\n",
       "      <th>4</th>\n",
       "      <td>10</td>\n",
       "      <td>loc</td>\n",
       "      <td>cons</td>\n",
       "      <td>0.455391</td>\n",
       "      <td>0.124292</td>\n",
       "      <td>0.162410</td>\n",
       "    </tr>\n",
       "  </tbody>\n",
       "</table>\n",
       "</div>"
      ],
      "text/plain": [
       "   sn  roi   con         z      beta        Zr\n",
       "0   1  loc  cons  1.085557  0.394441  0.441953\n",
       "1   1  loc   imm  0.895288  0.288257  0.379559\n",
       "2   1   pf  cons  0.406269  0.079983  0.122856\n",
       "3   1   pf   imm  0.324837  0.074869  0.105637\n",
       "4  10  loc  cons  0.455391  0.124292  0.162410"
      ]
     },
     "execution_count": 170,
     "metadata": {},
     "output_type": "execute_result"
    }
   ],
   "source": [
    "df_fnl.head()"
   ]
  },
  {
   "cell_type": "code",
   "execution_count": 171,
   "id": "2a9b15f1",
   "metadata": {
    "ExecuteTime": {
     "end_time": "2021-11-28T06:29:07.604221Z",
     "start_time": "2021-11-28T06:29:07.566430Z"
    }
   },
   "outputs": [
    {
     "data": {
      "text/html": [
       "<div>\n",
       "<style scoped>\n",
       "    .dataframe tbody tr th:only-of-type {\n",
       "        vertical-align: middle;\n",
       "    }\n",
       "\n",
       "    .dataframe tbody tr th {\n",
       "        vertical-align: top;\n",
       "    }\n",
       "\n",
       "    .dataframe thead th {\n",
       "        text-align: right;\n",
       "    }\n",
       "</style>\n",
       "<table border=\"1\" class=\"dataframe\">\n",
       "  <thead>\n",
       "    <tr style=\"text-align: right;\">\n",
       "      <th></th>\n",
       "      <th>names</th>\n",
       "      <th>coef</th>\n",
       "      <th>se</th>\n",
       "      <th>T</th>\n",
       "      <th>pval</th>\n",
       "      <th>r2</th>\n",
       "      <th>adj_r2</th>\n",
       "      <th>CI[2.5%]</th>\n",
       "      <th>CI[97.5%]</th>\n",
       "      <th>relimp</th>\n",
       "      <th>relimp_perc</th>\n",
       "    </tr>\n",
       "  </thead>\n",
       "  <tbody>\n",
       "    <tr>\n",
       "      <th>0</th>\n",
       "      <td>Intercept</td>\n",
       "      <td>0.007</td>\n",
       "      <td>0.006</td>\n",
       "      <td>1.111</td>\n",
       "      <td>0.279</td>\n",
       "      <td>0.512</td>\n",
       "      <td>0.466</td>\n",
       "      <td>-0.006</td>\n",
       "      <td>0.020</td>\n",
       "      <td>NaN</td>\n",
       "      <td>NaN</td>\n",
       "    </tr>\n",
       "    <tr>\n",
       "      <th>1</th>\n",
       "      <td>z</td>\n",
       "      <td>0.070</td>\n",
       "      <td>0.052</td>\n",
       "      <td>1.352</td>\n",
       "      <td>0.191</td>\n",
       "      <td>0.512</td>\n",
       "      <td>0.466</td>\n",
       "      <td>-0.038</td>\n",
       "      <td>0.177</td>\n",
       "      <td>0.122</td>\n",
       "      <td>23.81</td>\n",
       "    </tr>\n",
       "    <tr>\n",
       "      <th>2</th>\n",
       "      <td>Zr</td>\n",
       "      <td>0.728</td>\n",
       "      <td>0.199</td>\n",
       "      <td>3.658</td>\n",
       "      <td>0.001</td>\n",
       "      <td>0.512</td>\n",
       "      <td>0.466</td>\n",
       "      <td>0.314</td>\n",
       "      <td>1.141</td>\n",
       "      <td>0.390</td>\n",
       "      <td>76.19</td>\n",
       "    </tr>\n",
       "  </tbody>\n",
       "</table>\n",
       "</div>"
      ],
      "text/plain": [
       "       names   coef     se      T   pval     r2  adj_r2  CI[2.5%]  CI[97.5%]  \\\n",
       "0  Intercept  0.007  0.006  1.111  0.279  0.512   0.466    -0.006      0.020   \n",
       "1          z  0.070  0.052  1.352  0.191  0.512   0.466    -0.038      0.177   \n",
       "2         Zr  0.728  0.199  3.658  0.001  0.512   0.466     0.314      1.141   \n",
       "\n",
       "   relimp  relimp_perc  \n",
       "0     NaN          NaN  \n",
       "1   0.122        23.81  \n",
       "2   0.390        76.19  "
      ]
     },
     "execution_count": 171,
     "metadata": {},
     "output_type": "execute_result"
    }
   ],
   "source": [
    "lm = pg.linear_regression(X = df_dff[['z', 'Zr']],  y = df_dff['beta' ],\n",
    "                         remove_na = True, add_intercept = True,\n",
    "                         coef_only = False, relimp=True)\n",
    "lm.round(3)"
   ]
  },
  {
   "cell_type": "code",
   "execution_count": 172,
   "id": "82eb17bc",
   "metadata": {
    "ExecuteTime": {
     "end_time": "2021-11-28T06:29:08.278890Z",
     "start_time": "2021-11-28T06:29:08.273044Z"
    }
   },
   "outputs": [
    {
     "data": {
      "text/plain": [
       "(array([ 0.04037782, -0.02880129, -0.03199547, -0.02904239,  0.00230377,\n",
       "        -0.00496017, -0.03976243,  0.02242275,  0.02731909, -0.02331989,\n",
       "         0.01746612,  0.04105124, -0.00992838,  0.00840776, -0.02203583,\n",
       "        -0.00706285, -0.00563117,  0.0176607 ,  0.0234147 ,  0.00406036,\n",
       "        -0.01894301,  0.04231559, -0.0242374 , -0.00107959]),\n",
       " 2,\n",
       " 21)"
      ]
     },
     "execution_count": 172,
     "metadata": {},
     "output_type": "execute_result"
    }
   ],
   "source": [
    "lm.residuals_, lm.df_model_, lm.df_resid_ "
   ]
  },
  {
   "cell_type": "code",
   "execution_count": 173,
   "id": "3354323c",
   "metadata": {
    "ExecuteTime": {
     "end_time": "2021-11-28T06:29:09.179610Z",
     "start_time": "2021-11-28T06:29:09.042975Z"
    }
   },
   "outputs": [
    {
     "data": {
      "text/html": [
       "<div>\n",
       "<style scoped>\n",
       "    .dataframe tbody tr th:only-of-type {\n",
       "        vertical-align: middle;\n",
       "    }\n",
       "\n",
       "    .dataframe tbody tr th {\n",
       "        vertical-align: top;\n",
       "    }\n",
       "\n",
       "    .dataframe thead th {\n",
       "        text-align: right;\n",
       "    }\n",
       "</style>\n",
       "<table border=\"1\" class=\"dataframe\">\n",
       "  <thead>\n",
       "    <tr style=\"text-align: right;\">\n",
       "      <th></th>\n",
       "      <th>path</th>\n",
       "      <th>coef</th>\n",
       "      <th>se</th>\n",
       "      <th>pval</th>\n",
       "      <th>CI[2.5%]</th>\n",
       "      <th>CI[97.5%]</th>\n",
       "      <th>sig</th>\n",
       "    </tr>\n",
       "  </thead>\n",
       "  <tbody>\n",
       "    <tr>\n",
       "      <th>0</th>\n",
       "      <td>Zr ~ X</td>\n",
       "      <td>0.097763</td>\n",
       "      <td>0.051329</td>\n",
       "      <td>0.069984</td>\n",
       "      <td>-0.008687</td>\n",
       "      <td>0.204213</td>\n",
       "      <td>No</td>\n",
       "    </tr>\n",
       "    <tr>\n",
       "      <th>1</th>\n",
       "      <td>Y ~ Zr</td>\n",
       "      <td>0.828695</td>\n",
       "      <td>0.187705</td>\n",
       "      <td>0.000219</td>\n",
       "      <td>0.439419</td>\n",
       "      <td>1.217971</td>\n",
       "      <td>Yes</td>\n",
       "    </tr>\n",
       "    <tr>\n",
       "      <th>2</th>\n",
       "      <td>Total</td>\n",
       "      <td>0.141011</td>\n",
       "      <td>0.059856</td>\n",
       "      <td>0.027807</td>\n",
       "      <td>0.016877</td>\n",
       "      <td>0.265145</td>\n",
       "      <td>Yes</td>\n",
       "    </tr>\n",
       "    <tr>\n",
       "      <th>3</th>\n",
       "      <td>Direct</td>\n",
       "      <td>0.069888</td>\n",
       "      <td>0.051678</td>\n",
       "      <td>0.190637</td>\n",
       "      <td>-0.037582</td>\n",
       "      <td>0.177358</td>\n",
       "      <td>No</td>\n",
       "    </tr>\n",
       "    <tr>\n",
       "      <th>4</th>\n",
       "      <td>Indirect</td>\n",
       "      <td>0.071123</td>\n",
       "      <td>0.047993</td>\n",
       "      <td>0.064000</td>\n",
       "      <td>0.002036</td>\n",
       "      <td>0.183404</td>\n",
       "      <td>No</td>\n",
       "    </tr>\n",
       "  </tbody>\n",
       "</table>\n",
       "</div>"
      ],
      "text/plain": [
       "       path      coef        se      pval  CI[2.5%]  CI[97.5%]  sig\n",
       "0    Zr ~ X  0.097763  0.051329  0.069984 -0.008687   0.204213   No\n",
       "1    Y ~ Zr  0.828695  0.187705  0.000219  0.439419   1.217971  Yes\n",
       "2     Total  0.141011  0.059856  0.027807  0.016877   0.265145  Yes\n",
       "3    Direct  0.069888  0.051678  0.190637 -0.037582   0.177358   No\n",
       "4  Indirect  0.071123  0.047993  0.064000  0.002036   0.183404   No"
      ]
     },
     "execution_count": 173,
     "metadata": {},
     "output_type": "execute_result"
    }
   ],
   "source": [
    "pg.mediation_analysis(data=df_dff, x='z', m='Zr', y='beta', alpha=0.05,\n",
    "                   seed=42)"
   ]
  },
  {
   "cell_type": "code",
   "execution_count": 178,
   "id": "9ae0010b",
   "metadata": {
    "ExecuteTime": {
     "end_time": "2021-11-28T06:35:00.005264Z",
     "start_time": "2021-11-28T06:35:00.000087Z"
    }
   },
   "outputs": [],
   "source": [
    "# 모듈 불러오기\n",
    "import statsmodels.api as sm\n",
    "import statsmodels.formula.api as smf\n"
   ]
  },
  {
   "cell_type": "code",
   "execution_count": 225,
   "id": "1b74c781",
   "metadata": {
    "ExecuteTime": {
     "end_time": "2021-11-28T06:50:03.982742Z",
     "start_time": "2021-11-28T06:50:03.963793Z"
    }
   },
   "outputs": [],
   "source": [
    "linear_model = smf.ols(formula='beta ~ z + Zr + C(con)', data=df_fnl).fit()"
   ]
  },
  {
   "cell_type": "code",
   "execution_count": 226,
   "id": "68b5a8b9",
   "metadata": {
    "ExecuteTime": {
     "end_time": "2021-11-28T06:50:05.192887Z",
     "start_time": "2021-11-28T06:50:05.146417Z"
    }
   },
   "outputs": [
    {
     "data": {
      "text/html": [
       "<table class=\"simpletable\">\n",
       "<tr>\n",
       "        <td>Model:</td>               <td>OLS</td>         <td>Adj. R-squared:</td>     <td>0.904</td>  \n",
       "</tr>\n",
       "<tr>\n",
       "  <td>Dependent Variable:</td>       <td>beta</td>              <td>AIC:</td>         <td>-326.3848</td>\n",
       "</tr>\n",
       "<tr>\n",
       "         <td>Date:</td>        <td>2021-11-28 15:50</td>        <td>BIC:</td>         <td>-316.1274</td>\n",
       "</tr>\n",
       "<tr>\n",
       "   <td>No. Observations:</td>         <td>96</td>          <td>Log-Likelihood:</td>    <td>167.19</td>  \n",
       "</tr>\n",
       "<tr>\n",
       "       <td>Df Model:</td>              <td>3</td>           <td>F-statistic:</td>       <td>300.5</td>  \n",
       "</tr>\n",
       "<tr>\n",
       "     <td>Df Residuals:</td>           <td>92</td>        <td>Prob (F-statistic):</td> <td>2.14e-47</td> \n",
       "</tr>\n",
       "<tr>\n",
       "      <td>R-squared:</td>            <td>0.907</td>            <td>Scale:</td>        <td>0.0018762</td>\n",
       "</tr>\n",
       "</table>\n",
       "<table class=\"simpletable\">\n",
       "<tr>\n",
       "        <td></td>         <th>Coef.</th>  <th>Std.Err.</th>    <th>t</th>     <th>P>|t|</th> <th>[0.025</th>  <th>0.975]</th>\n",
       "</tr>\n",
       "<tr>\n",
       "  <th>Intercept</th>     <td>-0.0026</td>  <td>0.0090</td>  <td>-0.2923</td> <td>0.7708</td> <td>-0.0204</td> <td>0.0152</td>\n",
       "</tr>\n",
       "<tr>\n",
       "  <th>C(con)[T.imm]</th> <td>-0.0023</td>  <td>0.0089</td>  <td>-0.2653</td> <td>0.7914</td> <td>-0.0199</td> <td>0.0152</td>\n",
       "</tr>\n",
       "<tr>\n",
       "  <th>z</th>             <td>0.0045</td>   <td>0.0283</td>  <td>0.1596</td>  <td>0.8736</td> <td>-0.0517</td> <td>0.0608</td>\n",
       "</tr>\n",
       "<tr>\n",
       "  <th>Zr</th>            <td>0.9472</td>   <td>0.0741</td>  <td>12.7876</td> <td>0.0000</td> <td>0.8001</td>  <td>1.0943</td>\n",
       "</tr>\n",
       "</table>\n",
       "<table class=\"simpletable\">\n",
       "<tr>\n",
       "     <td>Omnibus:</td>     <td>1.899</td>  <td>Durbin-Watson:</td>   <td>1.028</td>\n",
       "</tr>\n",
       "<tr>\n",
       "  <td>Prob(Omnibus):</td>  <td>0.387</td> <td>Jarque-Bera (JB):</td> <td>1.381</td>\n",
       "</tr>\n",
       "<tr>\n",
       "       <td>Skew:</td>     <td>-0.272</td>     <td>Prob(JB):</td>     <td>0.501</td>\n",
       "</tr>\n",
       "<tr>\n",
       "     <td>Kurtosis:</td>    <td>3.222</td>  <td>Condition No.:</td>    <td>22</td>  \n",
       "</tr>\n",
       "</table>"
      ],
      "text/plain": [
       "<class 'statsmodels.iolib.summary2.Summary'>\n",
       "\"\"\"\n",
       "                 Results: Ordinary least squares\n",
       "==================================================================\n",
       "Model:              OLS              Adj. R-squared:     0.904    \n",
       "Dependent Variable: beta             AIC:                -326.3848\n",
       "Date:               2021-11-28 15:50 BIC:                -316.1274\n",
       "No. Observations:   96               Log-Likelihood:     167.19   \n",
       "Df Model:           3                F-statistic:        300.5    \n",
       "Df Residuals:       92               Prob (F-statistic): 2.14e-47 \n",
       "R-squared:          0.907            Scale:              0.0018762\n",
       "-------------------------------------------------------------------\n",
       "                 Coef.   Std.Err.     t     P>|t|    [0.025  0.975]\n",
       "-------------------------------------------------------------------\n",
       "Intercept       -0.0026    0.0090  -0.2923  0.7708  -0.0204  0.0152\n",
       "C(con)[T.imm]   -0.0023    0.0089  -0.2653  0.7914  -0.0199  0.0152\n",
       "z                0.0045    0.0283   0.1596  0.8736  -0.0517  0.0608\n",
       "Zr               0.9472    0.0741  12.7876  0.0000   0.8001  1.0943\n",
       "------------------------------------------------------------------\n",
       "Omnibus:              1.899         Durbin-Watson:           1.028\n",
       "Prob(Omnibus):        0.387         Jarque-Bera (JB):        1.381\n",
       "Skew:                 -0.272        Prob(JB):                0.501\n",
       "Kurtosis:             3.222         Condition No.:           22   \n",
       "==================================================================\n",
       "\n",
       "\"\"\""
      ]
     },
     "execution_count": 226,
     "metadata": {},
     "output_type": "execute_result"
    }
   ],
   "source": [
    "linear_model.summary2()"
   ]
  },
  {
   "cell_type": "code",
   "execution_count": 227,
   "id": "0a9c764d",
   "metadata": {
    "ExecuteTime": {
     "end_time": "2021-11-28T06:50:10.883275Z",
     "start_time": "2021-11-28T06:50:10.871205Z"
    }
   },
   "outputs": [],
   "source": [
    "NDF = pd.DataFrame()\n",
    "NDF['fitted'] = linear_model.fittedvalues  \n",
    "NDF['resid'] = linear_model.resid\n",
    "NDF['stdresid'] = linear_model.resid_pearson"
   ]
  },
  {
   "cell_type": "code",
   "execution_count": 228,
   "id": "41906cb5",
   "metadata": {
    "ExecuteTime": {
     "end_time": "2021-11-28T06:50:11.641114Z",
     "start_time": "2021-11-28T06:50:11.628380Z"
    }
   },
   "outputs": [
    {
     "data": {
      "text/html": [
       "<div>\n",
       "<style scoped>\n",
       "    .dataframe tbody tr th:only-of-type {\n",
       "        vertical-align: middle;\n",
       "    }\n",
       "\n",
       "    .dataframe tbody tr th {\n",
       "        vertical-align: top;\n",
       "    }\n",
       "\n",
       "    .dataframe thead th {\n",
       "        text-align: right;\n",
       "    }\n",
       "</style>\n",
       "<table border=\"1\" class=\"dataframe\">\n",
       "  <thead>\n",
       "    <tr style=\"text-align: right;\">\n",
       "      <th></th>\n",
       "      <th>fitted</th>\n",
       "      <th>resid</th>\n",
       "      <th>stdresid</th>\n",
       "    </tr>\n",
       "  </thead>\n",
       "  <tbody>\n",
       "    <tr>\n",
       "      <th>0</th>\n",
       "      <td>0.420898</td>\n",
       "      <td>-0.026457</td>\n",
       "      <td>-0.610800</td>\n",
       "    </tr>\n",
       "    <tr>\n",
       "      <th>1</th>\n",
       "      <td>0.358590</td>\n",
       "      <td>-0.070332</td>\n",
       "      <td>-1.623721</td>\n",
       "    </tr>\n",
       "    <tr>\n",
       "      <th>2</th>\n",
       "      <td>0.115582</td>\n",
       "      <td>-0.035600</td>\n",
       "      <td>-0.821867</td>\n",
       "    </tr>\n",
       "    <tr>\n",
       "      <th>3</th>\n",
       "      <td>0.096556</td>\n",
       "      <td>-0.021687</td>\n",
       "      <td>-0.500668</td>\n",
       "    </tr>\n",
       "    <tr>\n",
       "      <th>4</th>\n",
       "      <td>0.153270</td>\n",
       "      <td>-0.028978</td>\n",
       "      <td>-0.668998</td>\n",
       "    </tr>\n",
       "  </tbody>\n",
       "</table>\n",
       "</div>"
      ],
      "text/plain": [
       "     fitted     resid  stdresid\n",
       "0  0.420898 -0.026457 -0.610800\n",
       "1  0.358590 -0.070332 -1.623721\n",
       "2  0.115582 -0.035600 -0.821867\n",
       "3  0.096556 -0.021687 -0.500668\n",
       "4  0.153270 -0.028978 -0.668998"
      ]
     },
     "execution_count": 228,
     "metadata": {},
     "output_type": "execute_result"
    }
   ],
   "source": [
    "NDF.head()"
   ]
  },
  {
   "cell_type": "code",
   "execution_count": 229,
   "id": "e6131125",
   "metadata": {
    "ExecuteTime": {
     "end_time": "2021-11-28T06:50:15.007793Z",
     "start_time": "2021-11-28T06:50:14.886645Z"
    }
   },
   "outputs": [
    {
     "data": {
      "image/png": "[encoded data removed]",
      "text/plain": [
       "<Figure size 432x288 with 1 Axes>"
      ]
     },
     "metadata": {},
     "output_type": "display_data"
    }
   ],
   "source": [
    "plt.plot(NDF.fitted, NDF.stdresid, 'o')\n",
    "plt.axhline(y = 0, color ='grey', linestyle='dashed')\n",
    "plt.xlabel('Fitted Value')\n",
    "plt.ylabel('Standardized Residual')\n",
    "plt.show()"
   ]
  },
  {
   "cell_type": "code",
   "execution_count": 230,
   "id": "e7157238",
   "metadata": {
    "ExecuteTime": {
     "end_time": "2021-11-28T06:50:16.809112Z",
     "start_time": "2021-11-28T06:50:16.693033Z"
    }
   },
   "outputs": [
    {
     "data": {
      "image/png": "[encoded data removed]",
      "text/plain": [
       "<Figure size 432x288 with 1 Axes>"
      ]
     },
     "metadata": {},
     "output_type": "display_data"
    }
   ],
   "source": [
    "sm.qqplot(NDF.stdresid, line='s')\n",
    "plt.show()"
   ]
  },
  {
   "cell_type": "code",
   "execution_count": 238,
   "id": "ac985475",
   "metadata": {
    "ExecuteTime": {
     "end_time": "2021-11-28T07:37:04.778339Z",
     "start_time": "2021-11-28T07:37:04.770313Z"
    }
   },
   "outputs": [],
   "source": [
    "df_fnl_logReg = df_fnl\n",
    "df_fnl_logReg['con'] = df_fnl_logReg['con'].replace(['cons','imm'], ['1','0'])\n",
    "df_fnl_logReg['con'] = df_fnl_logReg['con'].astype(int)"
   ]
  },
  {
   "cell_type": "code",
   "execution_count": 245,
   "id": "d668a260",
   "metadata": {
    "ExecuteTime": {
     "end_time": "2021-11-28T07:39:01.907635Z",
     "start_time": "2021-11-28T07:39:01.888458Z"
    }
   },
   "outputs": [],
   "source": [
    "logreg = pg.logistic_regression(df_fnl_logReg[['z', 'beta', 'Zr']], df_fnl_logReg['con'],\n",
    "                             remove_na=True, coef_only=False)"
   ]
  },
  {
   "cell_type": "code",
   "execution_count": 246,
   "id": "3be63314",
   "metadata": {
    "ExecuteTime": {
     "end_time": "2021-11-28T07:39:02.548419Z",
     "start_time": "2021-11-28T07:39:02.531680Z"
    }
   },
   "outputs": [
    {
     "data": {
      "text/html": [
       "<div>\n",
       "<style scoped>\n",
       "    .dataframe tbody tr th:only-of-type {\n",
       "        vertical-align: middle;\n",
       "    }\n",
       "\n",
       "    .dataframe tbody tr th {\n",
       "        vertical-align: top;\n",
       "    }\n",
       "\n",
       "    .dataframe thead th {\n",
       "        text-align: right;\n",
       "    }\n",
       "</style>\n",
       "<table border=\"1\" class=\"dataframe\">\n",
       "  <thead>\n",
       "    <tr style=\"text-align: right;\">\n",
       "      <th></th>\n",
       "      <th>names</th>\n",
       "      <th>coef</th>\n",
       "      <th>se</th>\n",
       "      <th>z</th>\n",
       "      <th>pval</th>\n",
       "      <th>CI[2.5%]</th>\n",
       "      <th>CI[97.5%]</th>\n",
       "    </tr>\n",
       "  </thead>\n",
       "  <tbody>\n",
       "    <tr>\n",
       "      <th>0</th>\n",
       "      <td>Intercept</td>\n",
       "      <td>-0.135120</td>\n",
       "      <td>0.352751</td>\n",
       "      <td>-0.383048</td>\n",
       "      <td>0.701684</td>\n",
       "      <td>-0.826499</td>\n",
       "      <td>0.556258</td>\n",
       "    </tr>\n",
       "    <tr>\n",
       "      <th>1</th>\n",
       "      <td>z</td>\n",
       "      <td>-0.286458</td>\n",
       "      <td>1.312846</td>\n",
       "      <td>-0.218196</td>\n",
       "      <td>0.827277</td>\n",
       "      <td>-2.859589</td>\n",
       "      <td>2.286674</td>\n",
       "    </tr>\n",
       "    <tr>\n",
       "      <th>2</th>\n",
       "      <td>beta</td>\n",
       "      <td>1.307065</td>\n",
       "      <td>4.827110</td>\n",
       "      <td>0.270776</td>\n",
       "      <td>0.786563</td>\n",
       "      <td>-8.153896</td>\n",
       "      <td>10.768026</td>\n",
       "    </tr>\n",
       "    <tr>\n",
       "      <th>3</th>\n",
       "      <td>Zr</td>\n",
       "      <td>0.190483</td>\n",
       "      <td>5.712118</td>\n",
       "      <td>0.033347</td>\n",
       "      <td>0.973398</td>\n",
       "      <td>-11.005062</td>\n",
       "      <td>11.386028</td>\n",
       "    </tr>\n",
       "  </tbody>\n",
       "</table>\n",
       "</div>"
      ],
      "text/plain": [
       "       names      coef        se         z      pval   CI[2.5%]  CI[97.5%]\n",
       "0  Intercept -0.135120  0.352751 -0.383048  0.701684  -0.826499   0.556258\n",
       "1          z -0.286458  1.312846 -0.218196  0.827277  -2.859589   2.286674\n",
       "2       beta  1.307065  4.827110  0.270776  0.786563  -8.153896  10.768026\n",
       "3         Zr  0.190483  5.712118  0.033347  0.973398 -11.005062  11.386028"
      ]
     },
     "execution_count": 246,
     "metadata": {},
     "output_type": "execute_result"
    }
   ],
   "source": [
    "logreg"
   ]
  },
  {
   "cell_type": "code",
   "execution_count": 248,
   "id": "fb66d922",
   "metadata": {
    "ExecuteTime": {
     "end_time": "2021-11-28T07:44:37.403307Z",
     "start_time": "2021-11-28T07:44:37.393182Z"
    }
   },
   "outputs": [
    {
     "data": {
      "text/plain": [
       "-0.1351203794008318"
      ]
     },
     "execution_count": 248,
     "metadata": {},
     "output_type": "execute_result"
    }
   ],
   "source": [
    "logreg['coef'][0]"
   ]
  },
  {
   "cell_type": "code",
   "execution_count": 255,
   "id": "c981f41c",
   "metadata": {
    "ExecuteTime": {
     "end_time": "2021-11-28T07:48:26.650847Z",
     "start_time": "2021-11-28T07:48:26.634542Z"
    }
   },
   "outputs": [
    {
     "data": {
      "text/plain": [
       "0.5806892448602095"
      ]
     },
     "execution_count": 255,
     "metadata": {},
     "output_type": "execute_result"
    }
   ],
   "source": [
    "# log-odd ratio of intercept = -0.135120 / logreg['coef'][0]\n",
    "# log-odd ratio of z = -0.286457 / logreg['coef'][1]\n",
    "# log-odd ratio of beta = 1.307065 / logreg['coef'][2]\n",
    "# log-odd ratio of Zr = 0.190483 / logreg['coef'][3]\n",
    "\n",
    "# odd ratio of intercept = np.exp(logreg['coef'][0])\n",
    "# odd ratio of z = np.exp(logreg['coef'][1])\n",
    "# odd ratio of beta = np.exp(logreg['coef'][2])\n",
    "# odd ratio of Zr = np.exp(logreg['coef'][3])\n",
    "np.exp(logreg['coef'][0])\n",
    "np.exp(logreg['coef'][1])\n",
    "np.exp(logreg['coef'][2])\n",
    "np.exp(logreg['coef'][3])\n",
    "\n",
    "# probability\n",
    "1/(1+np.exp(-(-logreg['coef'][0])))\n",
    "1/(1+np.exp(-(-logreg['coef'][0]+1*logreg['coef'][1])))\n",
    "1/(1+np.exp(-(-logreg['coef'][0]+1*logreg['coef'][2])))\n",
    "1/(1+np.exp(-(-logreg['coef'][0]+1*logreg['coef'][3])))"
   ]
  }
 ],
 "metadata": {
  "hide_input": false,
  "kernelspec": {
   "display_name": "Python 3 (ipykernel)",
   "language": "python",
   "name": "python3"
  },
  "language_info": {
   "codemirror_mode": {
    "name": "ipython",
    "version": 3
   },
   "file_extension": ".py",
   "mimetype": "text/x-python",
   "name": "python",
   "nbconvert_exporter": "python",
   "pygments_lexer": "ipython3",
   "version": "3.8.12"
  },
  "toc": {
   "base_numbering": 1,
   "nav_menu": {},
   "number_sections": true,
   "sideBar": true,
   "skip_h1_title": false,
   "title_cell": "Table of Contents",
   "title_sidebar": "Contents",
   "toc_cell": false,
   "toc_position": {
    "height": "calc(100% - 180px)",
    "left": "10px",
    "top": "150px",
    "width": "288px"
   },
   "toc_section_display": true,
   "toc_window_display": true
  },
  "varInspector": {
   "cols": {
    "lenName": 16,
    "lenType": 16,
    "lenVar": 40
   },
   "kernels_config": {
    "python": {
     "delete_cmd_postfix": "",
     "delete_cmd_prefix": "del ",
     "library": "var_list.py",
     "varRefreshCmd": "print(var_dic_list())"
    },
    "r": {
     "delete_cmd_postfix": ") ",
     "delete_cmd_prefix": "rm(",
     "library": "var_list.r",
     "varRefreshCmd": "cat(var_dic_list()) "
    }
   },
   "types_to_exclude": [
    "module",
    "function",
    "builtin_function_or_method",
    "instance",
    "_Feature"
   ],
   "window_display": false
  }
 },
 "nbformat": 4,
 "nbformat_minor": 5
}
